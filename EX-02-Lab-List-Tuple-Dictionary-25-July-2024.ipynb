{
 "cells": [
  {
   "cell_type": "markdown",
   "id": "922dd82d",
   "metadata": {},
   "source": [
    "# 640710583-สุภารักษ์-เมธศาสตร์ (Heading)"
   ]
  },
  {
   "cell_type": "markdown",
   "id": "2c1b49f2",
   "metadata": {},
   "source": [
    "ในการทำแบบฝึกหัดให้เพิ่ม cell ด้านล่างของโจทย์เพื่อเขียน code"
   ]
  },
  {
   "cell_type": "markdown",
   "id": "9ff829b2",
   "metadata": {},
   "source": [
    "1.สร้าง list เพื่อเก็บชื่อวิชา\n",
    "\"Database\", \"Data Mining\", \"Machine Learning\", \"Database\", \"Calculus\", \"Linear Algebra\" \n",
    "และพิมพ์ออกมา"
   ]
  },
  {
   "cell_type": "code",
   "execution_count": 2,
   "id": "44e76f42-c2fb-4a04-b506-1060473c4f8b",
   "metadata": {},
   "outputs": [
    {
     "name": "stdout",
     "output_type": "stream",
     "text": [
      "['Database', 'Data Mining', 'Machine Learning', 'Database', 'Calculus', 'Linear Algebra']\n"
     ]
    }
   ],
   "source": [
    "List = [\"Database\", \"Data Mining\", \"Machine Learning\", \"Database\", \"Calculus\", \"Linear Algebra\" ] \n",
    "print(List[:])"
   ]
  },
  {
   "cell_type": "markdown",
   "id": "079c4d15",
   "metadata": {},
   "source": [
    "2.พิมพ์ขนาดของ List สร้าง"
   ]
  },
  {
   "cell_type": "code",
   "execution_count": 3,
   "id": "b3c96897-f6b7-43b7-8a0b-a4353fcb3ece",
   "metadata": {},
   "outputs": [
    {
     "data": {
      "text/plain": [
       "6"
      ]
     },
     "execution_count": 3,
     "metadata": {},
     "output_type": "execute_result"
    }
   ],
   "source": [
    "List = [\"Database\", \"Data Mining\", \"Machine Learning\", \"Database\", \"Calculus\", \"Linear Algebra\" ] \n",
    "len(List)"
   ]
  },
  {
   "cell_type": "markdown",
   "id": "0c9e4bb9",
   "metadata": {},
   "source": [
    "3.เพิ่มข้อมูล \"Deep Leaerning\" ต่อจาก index(ตำแหน่ง) สุดท้ายเก็บไว้ใน List ที่สร้าง"
   ]
  },
  {
   "cell_type": "code",
   "execution_count": 4,
   "id": "74d32e71-60ae-434a-a12d-187fa7cd21cd",
   "metadata": {},
   "outputs": [
    {
     "name": "stdout",
     "output_type": "stream",
     "text": [
      "['Database', 'Data Mining', 'Machine Learning', 'Database', 'Calculus', 'Linear Algebra', 'Deep Leaerning']\n"
     ]
    }
   ],
   "source": [
    "List = [\"Database\", \"Data Mining\", \"Machine Learning\", \"Database\", \"Calculus\", \"Linear Algebra\" ] \n",
    "List.append(\"Deep Leaerning\")\n",
    "print(List)"
   ]
  },
  {
   "cell_type": "markdown",
   "id": "3c512f72",
   "metadata": {},
   "source": [
    "4.แสดงข้อมูล Machine Learning และ Database ใน list "
   ]
  },
  {
   "cell_type": "code",
   "execution_count": 5,
   "id": "4036182e-79c0-4999-b1bd-2d945dcd0931",
   "metadata": {},
   "outputs": [
    {
     "name": "stdout",
     "output_type": "stream",
     "text": [
      "['Machine Learning', 'Database']\n"
     ]
    }
   ],
   "source": [
    "List = [\"Database\", \"Data Mining\", \"Machine Learning\", \"Database\", \"Calculus\", \"Linear Algebra\" ] \n",
    "print(List[2:4])"
   ]
  },
  {
   "cell_type": "markdown",
   "id": "9e15e6ed",
   "metadata": {},
   "source": [
    "5. สร้าง tuple จากรายชื่อผลไม้\n",
    "\"Orange\", \"Apple\", \"Grape\", \"Melon\""
   ]
  },
  {
   "cell_type": "code",
   "execution_count": 6,
   "id": "95f33c35-51d8-44fc-b465-e13a84de21d3",
   "metadata": {},
   "outputs": [
    {
     "name": "stdout",
     "output_type": "stream",
     "text": [
      "('Orange', 'Apple', 'Grape', 'Melon')\n"
     ]
    }
   ],
   "source": [
    "Tuple = (\"Orange\", \"Apple\", \"Grape\", \"Melon\")\n",
    "print(Tuple)"
   ]
  },
  {
   "cell_type": "markdown",
   "id": "6d9fb978",
   "metadata": {},
   "source": [
    "6. เพิ่ม Cherry  เข้าไปใน tuple ที่สร้าง"
   ]
  },
  {
   "cell_type": "code",
   "execution_count": 13,
   "id": "87ab2182-bd5d-4c69-873a-98326ad6e858",
   "metadata": {},
   "outputs": [
    {
     "data": {
      "text/plain": [
       "('Orange', 'Apple', 'Grape', 'Melon', 'Cherry')"
      ]
     },
     "execution_count": 13,
     "metadata": {},
     "output_type": "execute_result"
    }
   ],
   "source": [
    "Tuple = (\"Orange\", \"Apple\", \"Grape\", \"Melon\")\n",
    "Tuple += (\"Cherry\", )\n",
    "Tuple"
   ]
  },
  {
   "cell_type": "markdown",
   "id": "5a2b5fd8",
   "metadata": {},
   "source": [
    "7. สร้าง Dictionaries จากข้อมูลด้านล่างด้วยรูปแบบ key,value กำหนดให้\n",
    "name : Loid,\n",
    "family name : Forger,\n",
    "year : 1964"
   ]
  },
  {
   "cell_type": "code",
   "execution_count": 17,
   "id": "0180c2b1-34c1-4797-bfc8-b501e2a02b8e",
   "metadata": {},
   "outputs": [
    {
     "name": "stdout",
     "output_type": "stream",
     "text": [
      "{'name': 'Loid', 'family name': 'Forger', 'year': 1964}\n"
     ]
    }
   ],
   "source": [
    "dic = {\"name\" : \"Loid\", \"family name\" : \"Forger\", \"year\" : 1964}\n",
    "print(dic)"
   ]
  },
  {
   "cell_type": "markdown",
   "id": "bff3f6a3",
   "metadata": {},
   "source": [
    "8.พิมพ์ค่า key และ value ทั้งหมดใน Dictionaries ที่สร้าง"
   ]
  },
  {
   "cell_type": "code",
   "execution_count": 19,
   "id": "54259351-f629-4dab-91f7-0d1f96afb262",
   "metadata": {},
   "outputs": [
    {
     "name": "stdout",
     "output_type": "stream",
     "text": [
      "Key: name family name year \n",
      "Value: Loid Forger 1964 "
     ]
    }
   ],
   "source": [
    "dic = {\"name\" : \"Loid\", \"family name\" : \"Forger\", \"year\" : 1964}\n",
    "# iterate through keys\n",
    "print('Key:', end = ' ')\n",
    "for k in dic.keys():\n",
    "    print(k, end = ' ')\n",
    "print()\n",
    "print('Value:', end = ' ')\n",
    "for v in dic.values():\n",
    "    print(v, end = ' ')"
   ]
  },
  {
   "cell_type": "markdown",
   "id": "6bb0e521",
   "metadata": {},
   "source": [
    "9.เปลี่ยนชื่อ (name) และปี (year) ใน Dictionaries เป็น Anya และ 2016"
   ]
  },
  {
   "cell_type": "code",
   "execution_count": 16,
   "id": "b5b2cd38-001f-4ede-a44e-d6d15c323275",
   "metadata": {},
   "outputs": [
    {
     "name": "stdout",
     "output_type": "stream",
     "text": [
      "{'name': 'Anya', 'family name': 'Forger', 'year': 2016}\n"
     ]
    }
   ],
   "source": [
    "dic = {\"name\" : \"Loid\", \"family name\" : \"Forger\", \"year\" : 1964}\n",
    "dic.update({\"name\" : \"Anya\"})\n",
    "dic.update({\"year\" : 2016})\n",
    "print(dic)"
   ]
  },
  {
   "cell_type": "code",
   "execution_count": null,
   "id": "d123835b-59dd-4e9d-856c-f15f8280131a",
   "metadata": {},
   "outputs": [],
   "source": []
  }
 ],
 "metadata": {
  "kernelspec": {
   "display_name": "Python 3 (ipykernel)",
   "language": "python",
   "name": "python3"
  },
  "language_info": {
   "codemirror_mode": {
    "name": "ipython",
    "version": 3
   },
   "file_extension": ".py",
   "mimetype": "text/x-python",
   "name": "python",
   "nbconvert_exporter": "python",
   "pygments_lexer": "ipython3",
   "version": "3.11.7"
  }
 },
 "nbformat": 4,
 "nbformat_minor": 5
}
