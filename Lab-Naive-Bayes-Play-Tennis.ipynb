{
 "cells": [
  {
   "cell_type": "code",
   "execution_count": 29,
   "id": "ad41f390-9042-46e8-b7ec-cc026a9f06cd",
   "metadata": {},
   "outputs": [],
   "source": [
    "import pandas as pd\n",
    "import numpy as np"
   ]
  },
  {
   "cell_type": "code",
   "execution_count": 30,
   "id": "e04bf5a1-5a78-4bdf-b5f3-4d1c945808c4",
   "metadata": {},
   "outputs": [],
   "source": [
    "# สร้าง dataframe ชื่อ data ว่างๆ ขึ้นมาก่อน\n",
    "data = pd.DataFrame()"
   ]
  },
  {
   "cell_type": "code",
   "execution_count": 31,
   "id": "856277ad-4dfc-40cc-8f4d-904ee4900aaf",
   "metadata": {},
   "outputs": [],
   "source": [
    "# สร้างข้อมูลที่เป็น class เก็บใน dataframe ที่สร้างไว้ \n",
    "data['play'] = ['No','No','Yes','Yes','Yes','No','Yes','No','Yes','Yes','Yes','Yes','Yes','No']"
   ]
  },
  {
   "cell_type": "code",
   "execution_count": 32,
   "id": "6e4de18d-f6de-4ad6-851c-373c5b57e905",
   "metadata": {},
   "outputs": [],
   "source": [
    "# สร้้างข้อมูลที่เป็น attribute\n",
    "data['weather'] = ['Sunny','Sunny','Overcast','Rainy','Rainy','Rainy','Overcast','Sunny','Sunny','Rainy','Sunny','Overcast','Overcast','Rainy']\n",
    "data['temp'] = ['Hot','Hot','Hot','Mild','Cool','Cool','Cool','Mild','Cool','Mild','Mild','Mild','Hot','Mild']\n",
    "data['windy'] = ['Strong','Strong','Weak','Weak','Strong','Weak','Strong','Weak','Weak','Strong','Weak','Weak','Strong','Weak']"
   ]
  },
  {
   "cell_type": "code",
   "execution_count": 33,
   "id": "8ee6b9c1-c53d-465c-beed-6ade65b7d1c4",
   "metadata": {},
   "outputs": [
    {
     "data": {
      "text/html": [
       "<div>\n",
       "<style scoped>\n",
       "    .dataframe tbody tr th:only-of-type {\n",
       "        vertical-align: middle;\n",
       "    }\n",
       "\n",
       "    .dataframe tbody tr th {\n",
       "        vertical-align: top;\n",
       "    }\n",
       "\n",
       "    .dataframe thead th {\n",
       "        text-align: right;\n",
       "    }\n",
       "</style>\n",
       "<table border=\"1\" class=\"dataframe\">\n",
       "  <thead>\n",
       "    <tr style=\"text-align: right;\">\n",
       "      <th></th>\n",
       "      <th>play</th>\n",
       "      <th>weather</th>\n",
       "      <th>temp</th>\n",
       "      <th>windy</th>\n",
       "    </tr>\n",
       "  </thead>\n",
       "  <tbody>\n",
       "    <tr>\n",
       "      <th>0</th>\n",
       "      <td>No</td>\n",
       "      <td>Sunny</td>\n",
       "      <td>Hot</td>\n",
       "      <td>Strong</td>\n",
       "    </tr>\n",
       "    <tr>\n",
       "      <th>1</th>\n",
       "      <td>No</td>\n",
       "      <td>Sunny</td>\n",
       "      <td>Hot</td>\n",
       "      <td>Strong</td>\n",
       "    </tr>\n",
       "    <tr>\n",
       "      <th>2</th>\n",
       "      <td>Yes</td>\n",
       "      <td>Overcast</td>\n",
       "      <td>Hot</td>\n",
       "      <td>Weak</td>\n",
       "    </tr>\n",
       "    <tr>\n",
       "      <th>3</th>\n",
       "      <td>Yes</td>\n",
       "      <td>Rainy</td>\n",
       "      <td>Mild</td>\n",
       "      <td>Weak</td>\n",
       "    </tr>\n",
       "    <tr>\n",
       "      <th>4</th>\n",
       "      <td>Yes</td>\n",
       "      <td>Rainy</td>\n",
       "      <td>Cool</td>\n",
       "      <td>Strong</td>\n",
       "    </tr>\n",
       "    <tr>\n",
       "      <th>5</th>\n",
       "      <td>No</td>\n",
       "      <td>Rainy</td>\n",
       "      <td>Cool</td>\n",
       "      <td>Weak</td>\n",
       "    </tr>\n",
       "    <tr>\n",
       "      <th>6</th>\n",
       "      <td>Yes</td>\n",
       "      <td>Overcast</td>\n",
       "      <td>Cool</td>\n",
       "      <td>Strong</td>\n",
       "    </tr>\n",
       "    <tr>\n",
       "      <th>7</th>\n",
       "      <td>No</td>\n",
       "      <td>Sunny</td>\n",
       "      <td>Mild</td>\n",
       "      <td>Weak</td>\n",
       "    </tr>\n",
       "    <tr>\n",
       "      <th>8</th>\n",
       "      <td>Yes</td>\n",
       "      <td>Sunny</td>\n",
       "      <td>Cool</td>\n",
       "      <td>Weak</td>\n",
       "    </tr>\n",
       "    <tr>\n",
       "      <th>9</th>\n",
       "      <td>Yes</td>\n",
       "      <td>Rainy</td>\n",
       "      <td>Mild</td>\n",
       "      <td>Strong</td>\n",
       "    </tr>\n",
       "    <tr>\n",
       "      <th>10</th>\n",
       "      <td>Yes</td>\n",
       "      <td>Sunny</td>\n",
       "      <td>Mild</td>\n",
       "      <td>Weak</td>\n",
       "    </tr>\n",
       "    <tr>\n",
       "      <th>11</th>\n",
       "      <td>Yes</td>\n",
       "      <td>Overcast</td>\n",
       "      <td>Mild</td>\n",
       "      <td>Weak</td>\n",
       "    </tr>\n",
       "    <tr>\n",
       "      <th>12</th>\n",
       "      <td>Yes</td>\n",
       "      <td>Overcast</td>\n",
       "      <td>Hot</td>\n",
       "      <td>Strong</td>\n",
       "    </tr>\n",
       "    <tr>\n",
       "      <th>13</th>\n",
       "      <td>No</td>\n",
       "      <td>Rainy</td>\n",
       "      <td>Mild</td>\n",
       "      <td>Weak</td>\n",
       "    </tr>\n",
       "  </tbody>\n",
       "</table>\n",
       "</div>"
      ],
      "text/plain": [
       "   play   weather  temp   windy\n",
       "0    No     Sunny   Hot  Strong\n",
       "1    No     Sunny   Hot  Strong\n",
       "2   Yes  Overcast   Hot    Weak\n",
       "3   Yes     Rainy  Mild    Weak\n",
       "4   Yes     Rainy  Cool  Strong\n",
       "5    No     Rainy  Cool    Weak\n",
       "6   Yes  Overcast  Cool  Strong\n",
       "7    No     Sunny  Mild    Weak\n",
       "8   Yes     Sunny  Cool    Weak\n",
       "9   Yes     Rainy  Mild  Strong\n",
       "10  Yes     Sunny  Mild    Weak\n",
       "11  Yes  Overcast  Mild    Weak\n",
       "12  Yes  Overcast   Hot  Strong\n",
       "13   No     Rainy  Mild    Weak"
      ]
     },
     "execution_count": 33,
     "metadata": {},
     "output_type": "execute_result"
    }
   ],
   "source": [
    "data"
   ]
  },
  {
   "cell_type": "code",
   "execution_count": 34,
   "id": "e6fcdb03-87ef-4568-88b7-d1c8f268deaa",
   "metadata": {},
   "outputs": [
    {
     "data": {
      "text/html": [
       "<div>\n",
       "<style scoped>\n",
       "    .dataframe tbody tr th:only-of-type {\n",
       "        vertical-align: middle;\n",
       "    }\n",
       "\n",
       "    .dataframe tbody tr th {\n",
       "        vertical-align: top;\n",
       "    }\n",
       "\n",
       "    .dataframe thead th {\n",
       "        text-align: right;\n",
       "    }\n",
       "</style>\n",
       "<table border=\"1\" class=\"dataframe\">\n",
       "  <thead>\n",
       "    <tr style=\"text-align: right;\">\n",
       "      <th></th>\n",
       "      <th>weather</th>\n",
       "      <th>temp</th>\n",
       "      <th>windy</th>\n",
       "    </tr>\n",
       "  </thead>\n",
       "  <tbody>\n",
       "    <tr>\n",
       "      <th>0</th>\n",
       "      <td>Rainy</td>\n",
       "      <td>Cool</td>\n",
       "      <td>Weak</td>\n",
       "    </tr>\n",
       "  </tbody>\n",
       "</table>\n",
       "</div>"
      ],
      "text/plain": [
       "  weather  temp windy\n",
       "0   Rainy  Cool  Weak"
      ]
     },
     "execution_count": 34,
     "metadata": {},
     "output_type": "execute_result"
    }
   ],
   "source": [
    "# สร้าง dataframe ชื่อ person ว่างๆ ขึ้นมาก่อน\n",
    "person = pd.DataFrame()\n",
    "\n",
    "# สร้างข้อมูลที่เป็น new data \n",
    "person['weather'] = ['Rainy']\n",
    "person['temp'] = ['Cool']\n",
    "person['windy'] = ['Weak']\n",
    "\n",
    "# View the data \n",
    "person"
   ]
  },
  {
   "cell_type": "code",
   "execution_count": 35,
   "id": "819d8543-26eb-4c55-a866-8a6dd57c363b",
   "metadata": {},
   "outputs": [
    {
     "name": "stdout",
     "output_type": "stream",
     "text": [
      "9 5 14\n"
     ]
    }
   ],
   "source": [
    "# นับจำนวน yes\n",
    "n_yes = len(data[data['play'] == 'Yes'])  #len(object) เป็น function ใช้นับจำนวน object\n",
    "\n",
    "# นับจำนวน no\n",
    "n_no = len(data[data['play'] == 'No']) \n",
    "\n",
    "# นับจำนวนที่เล่นทั้งหมด\n",
    "total_play = len(data['play'])\n",
    "\n",
    "print(n_yes,n_no,total_play)"
   ]
  },
  {
   "cell_type": "code",
   "execution_count": 36,
   "id": "6fbcdaa6-18fa-45e0-928d-65dc1430499f",
   "metadata": {},
   "outputs": [],
   "source": [
    "n_sunny_yes = len(data[(data['weather'] == 'Sunny') & (data['play'] == 'Yes')])\n",
    "n_rain_yes = len(data[(data['weather'] == 'Rainy') & (data['play'] == 'Yes')])\n",
    "n_overcast_yes = len(data[(data['weather'] == 'Overcast') & (data['play'] == 'Yes')])\n",
    "\n",
    "n_hot_yes = len(data[(data['temp'] == 'Hot') & (data['play'] == 'Yes')])\n",
    "n_mild_yes = len(data[(data['temp'] == 'Mild') & (data['play'] == 'Yes')])\n",
    "n_cool_yes = len(data[(data['temp'] == 'Cool') & (data['play'] == 'Yes')])\n",
    "\n",
    "n_weak_yes = len(data[(data['windy'] == 'Weak') & (data['play'] == 'Yes')])\n",
    "n_strong_yes = len(data[(data['windy'] == 'Strong') & (data['play'] == 'Yes')])"
   ]
  },
  {
   "cell_type": "code",
   "execution_count": 37,
   "id": "27263597-e07c-4177-84ef-7522d638465c",
   "metadata": {},
   "outputs": [],
   "source": [
    "n_sunny_no = len(data[(data['weather'] == 'Sunny') & (data['play'] == 'No')])\n",
    "n_rain_no = len(data[(data['weather'] == 'Rainy') & (data['play'] == 'No')])\n",
    "n_overcast_no = len(data[(data['weather'] == 'Overcast') & (data['play'] == 'No')])\n",
    "\n",
    "n_hot_no= len(data[(data['temp'] == 'Hot') & (data['play'] == 'No')])\n",
    "n_mild_no = len(data[(data['temp'] == 'Mild') & (data['play'] == 'No')])\n",
    "n_cool_no = len(data[(data['temp'] == 'Cool') & (data['play'] == 'No')])\n",
    "\n",
    "n_weak_no = len(data[(data['windy'] == 'Weak') & (data['play'] == 'No')])\n",
    "n_strong_no = len(data[(data['windy'] == 'Strong') & (data['play'] == 'No')])"
   ]
  },
  {
   "cell_type": "code",
   "execution_count": 38,
   "id": "0b94e835-763c-4a02-91ce-575c8b7f9355",
   "metadata": {},
   "outputs": [
    {
     "name": "stdout",
     "output_type": "stream",
     "text": [
      "0.3333333333333333\n"
     ]
    }
   ],
   "source": [
    "p_yes = n_yes/total_play \n",
    "p_no = n_no/total_play \n",
    "\n",
    "p_sunny_yes = n_sunny_yes/n_yes\n",
    "p_rain_yes = n_rain_yes/n_yes\n",
    "p_overcast_yes = n_overcast_yes/n_yes\n",
    "\n",
    "p_hot_yes = n_hot_yes/n_yes\n",
    "p_mild_yes = n_mild_yes/n_yes\n",
    "p_cool_yes = n_cool_yes/n_yes\n",
    "\n",
    "p_weak_yes = n_weak_yes/n_yes\n",
    "p_strong_yes = n_strong_yes/n_yes\n",
    "\n",
    "print(p_rain_yes)"
   ]
  },
  {
   "cell_type": "code",
   "execution_count": 39,
   "id": "6d890f1e-989f-44bf-9a50-66d49651deae",
   "metadata": {},
   "outputs": [
    {
     "name": "stdout",
     "output_type": "stream",
     "text": [
      "0.4\n"
     ]
    }
   ],
   "source": [
    "p_sunny_no = n_sunny_no/n_no\n",
    "p_rain_no = n_rain_no/n_no\n",
    "p_overcast_no = n_overcast_no/n_no\n",
    "\n",
    "p_hot_no = n_hot_no/n_no\n",
    "p_mild_no = n_mild_no/n_no\n",
    "p_cool_no = n_cool_no/n_no\n",
    "\n",
    "p_weak_no = n_weak_no/n_no\n",
    "p_strong_no = n_strong_no/n_no\n",
    "\n",
    "print(p_rain_no)"
   ]
  },
  {
   "cell_type": "code",
   "execution_count": 40,
   "id": "0765a782-e3d3-4a0a-b0fb-bd3ee5a3895c",
   "metadata": {},
   "outputs": [
    {
     "name": "stdout",
     "output_type": "stream",
     "text": [
      "0.3333333333333333 0.3333333333333333 0.5555555555555556 0.6428571428571429\n",
      "0.4 0.2 0.6 0.35714285714285715\n",
      "p_rain_cool_weak_yes =  0.03968253968253968\n",
      "p_rain_cool_weak_no =  0.017142857142857147\n"
     ]
    }
   ],
   "source": [
    "p_rain_cool_weak_yes = p_rain_yes * p_cool_yes * p_weak_yes * p_yes\n",
    "\n",
    "p_rain_cool_weak_no = p_rain_no * p_cool_no * p_weak_no * p_no\n",
    "\n",
    "print(p_rain_yes,p_cool_yes,p_weak_yes,p_yes)\n",
    "print(p_rain_no,p_cool_no,p_weak_no,p_no)\n",
    "\n",
    "print('p_rain_cool_weak_yes = ', p_rain_cool_weak_yes)\n",
    "print('p_rain_cool_weak_no = ', p_rain_cool_weak_no)"
   ]
  },
  {
   "cell_type": "markdown",
   "id": "de8e780e-b81e-43a8-b700-356f823595d6",
   "metadata": {},
   "source": [
    "ค่า P(play = no|new) (=0.0171) มีค่าน้อยกว่า P(play = yes|new) (=0.0397) ดังนั้นโมเดลจึงทำนายว่าข้อมูลตัวอย่างนี้มีค่าคลาส play = yes เล่น tennis"
   ]
  },
  {
   "cell_type": "code",
   "execution_count": null,
   "id": "4d0dcb6d-ab83-4beb-8cc8-b1125f6eaf1b",
   "metadata": {},
   "outputs": [],
   "source": []
  }
 ],
 "metadata": {
  "kernelspec": {
   "display_name": "Python 3 (ipykernel)",
   "language": "python",
   "name": "python3"
  },
  "language_info": {
   "codemirror_mode": {
    "name": "ipython",
    "version": 3
   },
   "file_extension": ".py",
   "mimetype": "text/x-python",
   "name": "python",
   "nbconvert_exporter": "python",
   "pygments_lexer": "ipython3",
   "version": "3.11.7"
  }
 },
 "nbformat": 4,
 "nbformat_minor": 5
}
