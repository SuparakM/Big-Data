{
 "cells": [
  {
   "cell_type": "code",
   "execution_count": 2,
   "metadata": {},
   "outputs": [],
   "source": [
    "import pandas as pd\n",
    "import numpy as np"
   ]
  },
  {
   "cell_type": "code",
   "execution_count": 5,
   "metadata": {},
   "outputs": [],
   "source": [
    "# อ่านข้อมูล\n",
    "play_tennis = pd.read_csv(\"play_tennis.csv\")"
   ]
  },
  {
   "cell_type": "code",
   "execution_count": 7,
   "metadata": {},
   "outputs": [
    {
     "name": "stdout",
     "output_type": "stream",
     "text": [
      "    outlook  temperature  humidity  windy play\n",
      "0         2            1         0      1   no\n",
      "1         2            1         0      0   no\n",
      "2         0            1         0      1  yes\n",
      "3         1            2         0      1  yes\n",
      "4         1            0         1      1  yes\n",
      "5         1            0         1      0   no\n",
      "6         0            0         1      0  yes\n",
      "7         2            2         0      1   no\n",
      "8         2            0         1      1  yes\n",
      "9         1            2         1      1  yes\n",
      "10        2            2         1      0  yes\n",
      "11        0            2         0      0  yes\n",
      "12        0            1         1      1  yes\n",
      "13        1            2         0      0   no\n"
     ]
    }
   ],
   "source": [
    "# encode temp and play columns.\n",
    "# Converting string labels into numbers\n",
    "\n",
    "# Import LabelEncoder\n",
    "from sklearn import preprocessing\n",
    "\n",
    "#creating labelEncoder\n",
    "number = preprocessing.LabelEncoder()\n",
    "\n",
    "play_tennis['outlook'] = number.fit_transform(play_tennis['outlook'])\n",
    "play_tennis['temperature'] = number.fit_transform(play_tennis['temperature'])\n",
    "play_tennis['humidity'] = number.fit_transform(play_tennis['humidity'])\n",
    "play_tennis['windy'] = number.fit_transform(play_tennis['windy'])\n",
    "\n",
    "print(play_tennis)"
   ]
  },
  {
   "cell_type": "markdown",
   "metadata": {},
   "source": [
    "sklearn library, which can be found in sklearn.naive_bayes:\n",
    "\n",
    "sklearn.naive_bayes.CategoricalNB: \n",
    "    for using Naive Bayes on categorical predictor variables.\n",
    "            \n",
    "sklearn.naive_bayes.GaussianNB: \n",
    "    for Naive Bayes on numerical predictor variables, with the assumption \n",
    "    that these variables follow Gaussian distribution.\n",
    "    \n",
    "sklearn.naive_bayes.MultinomialNB: \n",
    "    the predictor variables represent the counts, a popular application \n",
    "    is in text classification. Fractional counts like tf-idf may also work.\n",
    "    \n",
    "sklearn.naive_bayes.ComplementNB: \n",
    "    A modification of MultinomialNB which is suitable for imbalanced datasets.\n",
    "    \n",
    "sklearn.naive_bayes.BernoulliNB: \n",
    "    assumes the data follows Bernoulli distribution (i.e. possible values of \n",
    "    predictor variables are 0 and 1)."
   ]
  },
  {
   "cell_type": "code",
   "execution_count": 8,
   "metadata": {},
   "outputs": [
    {
     "name": "stdout",
     "output_type": "stream",
     "text": [
      "Predicted Value: ['no']\n"
     ]
    },
    {
     "name": "stderr",
     "output_type": "stream",
     "text": [
      "C:\\Users\\Guest-Student\\anaconda3\\Lib\\site-packages\\sklearn\\base.py:493: UserWarning: X does not have valid feature names, but CategoricalNB was fitted with feature names\n",
      "  warnings.warn(\n"
     ]
    }
   ],
   "source": [
    "#Import Library of Naive Bayes\n",
    "from sklearn.naive_bayes import GaussianNB, BernoulliNB, MultinomialNB, CategoricalNB\n",
    "\n",
    "#Create a Gaussian Classifier\n",
    "Cat_NB_model = CategoricalNB()\n",
    "\n",
    "# Train the model using the training sets\n",
    "Cat_NB_model.fit(play_tennis[['outlook','temperature', 'humidity','windy']],play_tennis['play'])\n",
    "\n",
    "#Predict Output\n",
    "predicted= Cat_NB_model.predict([[1,1,0,1]]) # 1:rain, 1:hot, 0:high, 1:weak\n",
    "print(\"Predicted Value:\", predicted)"
   ]
  },
  {
   "cell_type": "code",
   "execution_count": 9,
   "metadata": {},
   "outputs": [],
   "source": [
    "#Import Library of K-Nearest Neighbor model\n",
    "from sklearn.neighbors import KNeighborsClassifier"
   ]
  },
  {
   "cell_type": "code",
   "execution_count": 12,
   "metadata": {},
   "outputs": [
    {
     "name": "stdout",
     "output_type": "stream",
     "text": [
      "Predicted Value: ['yes']\n"
     ]
    },
    {
     "name": "stderr",
     "output_type": "stream",
     "text": [
      "C:\\Users\\Guest-Student\\anaconda3\\Lib\\site-packages\\sklearn\\base.py:493: UserWarning: X does not have valid feature names, but KNeighborsClassifier was fitted with feature names\n",
      "  warnings.warn(\n"
     ]
    }
   ],
   "source": [
    "#Create a KNN Classifier\n",
    "knn = KNeighborsClassifier(n_neighbors=3)\n",
    "\n",
    "# Train the model using the training sets\n",
    "knn.fit(play_tennis[['outlook','temperature', 'humidity','windy']],play_tennis['play'])\n",
    "\n",
    "#Predict Output\n",
    "predicted= knn.predict([[1,1,0,1]]) \n",
    "print(\"Predicted Value:\", predicted)"
   ]
  },
  {
   "cell_type": "markdown",
   "metadata": {},
   "source": [
    "# แบบฝึกหัด"
   ]
  },
  {
   "cell_type": "markdown",
   "metadata": {},
   "source": [
    "1. จากตัวอย่างข้างต้น ให้นักศึกษาทดลองใช้ GaussianNB, BernoulliNB, MultinomialNB  \n",
    "เพื่อ predict ข้อมูลใหม่ที่เป็น rain, hot, high, weak ว่าเมื่อใช้แต่ละ model ได้คำตอบเป็นอะไร"
   ]
  },
  {
   "cell_type": "code",
   "execution_count": 13,
   "metadata": {},
   "outputs": [
    {
     "name": "stdout",
     "output_type": "stream",
     "text": [
      "Predicted Value: ['yes']\n"
     ]
    },
    {
     "name": "stderr",
     "output_type": "stream",
     "text": [
      "C:\\Users\\Guest-Student\\anaconda3\\Lib\\site-packages\\sklearn\\base.py:493: UserWarning: X does not have valid feature names, but GaussianNB was fitted with feature names\n",
      "  warnings.warn(\n"
     ]
    }
   ],
   "source": [
    "Ga_NB_model = GaussianNB()\n",
    "\n",
    "Ga_NB_model.fit(play_tennis[['outlook','temperature', 'humidity','windy']],play_tennis['play'])\n",
    "\n",
    "predicted= Ga_NB_model.predict([[1,1,0,1]]) # 1:rain, 1:hot, 0:high, 1:weak\n",
    "print(\"Predicted Value:\", predicted)"
   ]
  },
  {
   "cell_type": "code",
   "execution_count": 14,
   "metadata": {},
   "outputs": [
    {
     "name": "stdout",
     "output_type": "stream",
     "text": [
      "Predicted Value: ['no']\n"
     ]
    },
    {
     "name": "stderr",
     "output_type": "stream",
     "text": [
      "C:\\Users\\Guest-Student\\anaconda3\\Lib\\site-packages\\sklearn\\base.py:493: UserWarning: X does not have valid feature names, but BernoulliNB was fitted with feature names\n",
      "  warnings.warn(\n"
     ]
    }
   ],
   "source": [
    "Ber_NB_model = BernoulliNB()\n",
    "\n",
    "Ber_NB_model.fit(play_tennis[['outlook','temperature', 'humidity','windy']],play_tennis['play'])\n",
    "\n",
    "predicted= Ber_NB_model.predict([[1,1,0,1]]) # 1:rain, 1:hot, 0:high, 1:weak\n",
    "print(\"Predicted Value:\", predicted)"
   ]
  },
  {
   "cell_type": "code",
   "execution_count": 15,
   "metadata": {},
   "outputs": [
    {
     "name": "stdout",
     "output_type": "stream",
     "text": [
      "Predicted Value: ['yes']\n"
     ]
    },
    {
     "name": "stderr",
     "output_type": "stream",
     "text": [
      "C:\\Users\\Guest-Student\\anaconda3\\Lib\\site-packages\\sklearn\\base.py:493: UserWarning: X does not have valid feature names, but MultinomialNB was fitted with feature names\n",
      "  warnings.warn(\n"
     ]
    }
   ],
   "source": [
    "Mul_NB_model = MultinomialNB()\n",
    "\n",
    "Mul_NB_model.fit(play_tennis[['outlook','temperature', 'humidity','windy']],play_tennis['play'])\n",
    "\n",
    "predicted= Mul_NB_model.predict([[1,1,0,1]]) # 1:rain, 1:hot, 0:high, 1:weak\n",
    "print(\"Predicted Value:\", predicted)"
   ]
  },
  {
   "cell_type": "markdown",
   "metadata": {},
   "source": [
    "2. มีข้อมูลใหม่ 2 ชุดคือ \n",
    "outlook -> Rainy, Sunny\n",
    "temperature -> Cool, Mild\n",
    "humidity -> high, normal\n",
    "windy -> Weak, Strong\n",
    "\n",
    "ให้ักศึกษาใช้ NB และ KNN (เมื่อ K=5) predict ข้อมูลใหม่ว่าอยู่ใน class อะไร"
   ]
  },
  {
   "cell_type": "code",
   "execution_count": 39,
   "metadata": {},
   "outputs": [
    {
     "data": {
      "text/html": [
       "<div>\n",
       "<style scoped>\n",
       "    .dataframe tbody tr th:only-of-type {\n",
       "        vertical-align: middle;\n",
       "    }\n",
       "\n",
       "    .dataframe tbody tr th {\n",
       "        vertical-align: top;\n",
       "    }\n",
       "\n",
       "    .dataframe thead th {\n",
       "        text-align: right;\n",
       "    }\n",
       "</style>\n",
       "<table border=\"1\" class=\"dataframe\">\n",
       "  <thead>\n",
       "    <tr style=\"text-align: right;\">\n",
       "      <th></th>\n",
       "      <th>outlook</th>\n",
       "      <th>temperature</th>\n",
       "      <th>humidity</th>\n",
       "      <th>windy</th>\n",
       "    </tr>\n",
       "  </thead>\n",
       "  <tbody>\n",
       "    <tr>\n",
       "      <th>0</th>\n",
       "      <td>Rainy</td>\n",
       "      <td>Cool</td>\n",
       "      <td>high</td>\n",
       "      <td>Weak</td>\n",
       "    </tr>\n",
       "    <tr>\n",
       "      <th>1</th>\n",
       "      <td>Sunny</td>\n",
       "      <td>Mild</td>\n",
       "      <td>normal</td>\n",
       "      <td>Strong</td>\n",
       "    </tr>\n",
       "  </tbody>\n",
       "</table>\n",
       "</div>"
      ],
      "text/plain": [
       "  outlook temperature humidity   windy\n",
       "0   Rainy        Cool     high    Weak\n",
       "1   Sunny        Mild   normal  Strong"
      ]
     },
     "execution_count": 39,
     "metadata": {},
     "output_type": "execute_result"
    }
   ],
   "source": [
    "# สร้าง dataframe ชื่อ person ว่างๆ ขึ้นมาก่อน\n",
    "person = pd.DataFrame()\n",
    "\n",
    "# สร้างข้อมูลที่เป็น new data มี 2 คน\n",
    "person['outlook'] = ['Rainy', 'Sunny']\n",
    "person['temperature'] = ['Cool', 'Mild']\n",
    "person['humidity'] = ['high', 'normal']\n",
    "person['windy'] = ['Weak', 'Strong']\n",
    "\n",
    "# View the data \n",
    "person"
   ]
  },
  {
   "cell_type": "code",
   "execution_count": 40,
   "metadata": {},
   "outputs": [
    {
     "name": "stdout",
     "output_type": "stream",
     "text": [
      "[2 2 0 1 1 1 0 2 2 1 2 0 0 1]\n",
      "[1 1 1 2 0 0 0 2 0 2 2 2 1 2]\n",
      "[0 0 0 0 1 1 1 0 1 1 1 0 1 0]\n",
      "[1 0 1 1 1 0 0 1 1 1 0 0 1 0]\n"
     ]
    }
   ],
   "source": [
    "# Import LabelEncoder\n",
    "from sklearn import preprocessing\n",
    "#creating labelEncoder\n",
    "le = preprocessing.LabelEncoder()\n",
    "# Converting string labels into numbers.\n",
    "outlook_encoded=le.fit_transform(play_tennis['outlook'])\n",
    "temperature_encoded=le.fit_transform(play_tennis['temperature'])\n",
    "humidity_encoded=le.fit_transform(play_tennis['humidity'])\n",
    "windy_encoded=le.fit_transform(play_tennis['windy'])\n",
    "\n",
    "print(outlook_encoded)\n",
    "print(temperature_encoded)\n",
    "print(humidity_encoded)\n",
    "print(windy_encoded)"
   ]
  },
  {
   "cell_type": "code",
   "execution_count": 41,
   "metadata": {},
   "outputs": [
    {
     "name": "stdout",
     "output_type": "stream",
     "text": [
      "[(2, 1, 0, 1), (2, 1, 0, 0), (0, 1, 0, 1), (1, 2, 0, 1), (1, 0, 1, 1), (1, 0, 1, 0), (0, 0, 1, 0), (2, 2, 0, 1), (2, 0, 1, 1), (1, 2, 1, 1), (2, 2, 1, 0), (0, 2, 0, 0), (0, 1, 1, 1), (1, 2, 0, 0)]\n"
     ]
    }
   ],
   "source": [
    "#Combinig weather and temp into single listof tuples\n",
    "features=list(zip(outlook_encoded,temperature_encoded,humidity_encoded,windy_encoded))\n",
    "print(features)"
   ]
  },
  {
   "cell_type": "code",
   "execution_count": 48,
   "metadata": {},
   "outputs": [
    {
     "name": "stdout",
     "output_type": "stream",
     "text": [
      "Predicted Value: ['yes' 'yes']\n"
     ]
    }
   ],
   "source": [
    "Ga_NB_model = GaussianNB()\n",
    "\n",
    "Ga_NB_model.fit(features,play_tennis['play'])\n",
    "\n",
    "predicted= Ga_NB_model.predict([[1,0,0,1],[2,2,1,0]])\n",
    "print(\"Predicted Value:\", predicted)"
   ]
  },
  {
   "cell_type": "code",
   "execution_count": 49,
   "metadata": {},
   "outputs": [
    {
     "name": "stdout",
     "output_type": "stream",
     "text": [
      "Predicted Value: ['yes' 'no']\n"
     ]
    }
   ],
   "source": [
    "#Create a KNN Classifier\n",
    "knn = KNeighborsClassifier(n_neighbors=5)\n",
    "\n",
    "# Train the model using the training sets\n",
    "knn.fit(features,play_tennis['play'])\n",
    "\n",
    "#Predict Output\n",
    "predicted= knn.predict([[1,0,0,1],[2,2,1,0]])\n",
    "print(\"Predicted Value:\", predicted)"
   ]
  },
  {
   "cell_type": "code",
   "execution_count": null,
   "metadata": {},
   "outputs": [],
   "source": []
  }
 ],
 "metadata": {
  "kernelspec": {
   "display_name": "Python 3 (ipykernel)",
   "language": "python",
   "name": "python3"
  },
  "language_info": {
   "codemirror_mode": {
    "name": "ipython",
    "version": 3
   },
   "file_extension": ".py",
   "mimetype": "text/x-python",
   "name": "python",
   "nbconvert_exporter": "python",
   "pygments_lexer": "ipython3",
   "version": "3.11.7"
  }
 },
 "nbformat": 4,
 "nbformat_minor": 4
}
