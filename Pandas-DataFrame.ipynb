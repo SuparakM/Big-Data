{
 "cells": [
  {
   "cell_type": "markdown",
   "id": "a0691b86-cc0c-449c-939b-75e287172ca4",
   "metadata": {},
   "source": [
    "# Python for Data Analysis"
   ]
  },
  {
   "cell_type": "code",
   "execution_count": 2,
   "id": "3e8ade7e-c690-4110-b05a-0cddff2e3836",
   "metadata": {},
   "outputs": [],
   "source": [
    "#Import Python Libraries\n",
    "import numpy as np\n",
    "import pandas as pd"
   ]
  },
  {
   "cell_type": "code",
   "execution_count": 12,
   "id": "de18a9e8-a842-4c24-8a41-6a68be19118b",
   "metadata": {},
   "outputs": [
    {
     "name": "stdout",
     "output_type": "stream",
     "text": [
      "2.1.4\n"
     ]
    }
   ],
   "source": [
    "print(pd. __version__)"
   ]
  },
  {
   "cell_type": "markdown",
   "id": "2754d634-a183-4a1a-9af6-fa885655a1a1",
   "metadata": {},
   "source": [
    "Pandas is a python package that deals mostly with :\n",
    "\n",
    "- __Series__ (1d homogeneous array)\n",
    "- __DataFrame__ (2d labeled heterogeneous array)\n",
    "- __Panel__ (general 3d array)\n",
    "\n",
    "# Pandas  _DataFrame_  is two-dimensional, size-mutable, heterogeneous tabular data structure with #labeled rows and columns ( axes ). Can be thought of a dictionary-like container to store #python Series objects."
   ]
  },
  {
   "cell_type": "code",
   "execution_count": 72,
   "id": "f71fd1ee-9bf4-47da-909a-9052dc021797",
   "metadata": {},
   "outputs": [
    {
     "name": "stdout",
     "output_type": "stream",
     "text": [
      "numpy sorted score [ 7 20 25 25 29 32 35 44 44 47 56 58 59 63 67 74 75 82 84 85]\n",
      "score [25, 47, 84, 74, 44, 35, 75, 7, 29, 82, 32, 25, 20, 63, 44, 58, 59, 67, 56, 85]\n"
     ]
    }
   ],
   "source": [
    "score = [25, 47, 84, 74, 44, 35, 75, 7, 29, 82, 32, 25, 20, 63, 44, 58, 59, 67, 56, 85]\n",
    "print(\"numpy sorted score\",np.sort(score))\n",
    "print(\"score\",score)"
   ]
  },
  {
   "cell_type": "code",
   "execution_count": 73,
   "id": "af908ea3-58f5-41c5-b03f-911b2586b651",
   "metadata": {},
   "outputs": [
    {
     "name": "stdout",
     "output_type": "stream",
     "text": [
      "[7, 20, 25, 25, 29, 32, 35, 44, 44, 47, 56, 58, 59, 63, 67, 74, 75, 82, 84, 85]\n",
      "[25, 47, 84, 74, 44, 35, 75, 7, 29, 82, 32, 25, 20, 63, 44, 58, 59, 67, 56, 85]\n"
     ]
    }
   ],
   "source": [
    "score = [25, 47, 84, 74, 44, 35, 75, 7, 29, 82, 32, 25, 20, 63, 44, 58, 59, 67, 56, 85]\n",
    "print(sorted(score))\n",
    "print(score)"
   ]
  },
  {
   "cell_type": "code",
   "execution_count": 74,
   "id": "ced7ba04-9ad0-4391-970b-37ce9e9f3d2a",
   "metadata": {},
   "outputs": [
    {
     "name": "stdout",
     "output_type": "stream",
     "text": [
      "[85, 84, 82, 75, 74, 67, 63, 59, 58, 56, 47, 44, 44, 35, 32, 29, 25, 25, 20, 7]\n"
     ]
    }
   ],
   "source": [
    "score = [25, 47, 84, 74, 44, 35, 75, 7, 29, 82, 32, 25, 20, 63, 44, 58, 59, 67, 56, 85]\n",
    "score.sort(reverse=True)\n",
    "print(score)"
   ]
  },
  {
   "cell_type": "code",
   "execution_count": 75,
   "id": "1f7acbc1-fd1e-4b61-850f-a6ca2fb24e1f",
   "metadata": {},
   "outputs": [
    {
     "name": "stdout",
     "output_type": "stream",
     "text": [
      "50.55\n",
      "22.70346889794597\n",
      "min =  7\n"
     ]
    }
   ],
   "source": [
    "score = [25, 47, 84, 74, 44, 35, 75, 7, 29, 82, 32, 25, 20, 63, 44, 58, 59, 67, 56, 85]\n",
    "print(np.mean(score))\n",
    "print(np.std(score))\n",
    "print(\"min = \", np.min(score))\n",
    "# หา max "
   ]
  },
  {
   "cell_type": "code",
   "execution_count": 104,
   "id": "cfc5ac89-7093-47f0-bca7-722e379e73d3",
   "metadata": {},
   "outputs": [],
   "source": [
    "#Read csv file แบบอาจารย์\n",
    "#df = pd.read_csv(\"D:/D-MISC-Download/520215-DA-67-1/Midterm/Lab/Data/Salaries.csv\")\n",
    "\n",
    "#Read csv file\n",
    "df = pd.read_csv(\"Salaries.csv\")   "
   ]
  },
  {
   "cell_type": "code",
   "execution_count": 77,
   "id": "4bb115cf-a1a1-4808-b94a-92cef2cb25d7",
   "metadata": {},
   "outputs": [
    {
     "data": {
      "text/html": [
       "<div>\n",
       "<style scoped>\n",
       "    .dataframe tbody tr th:only-of-type {\n",
       "        vertical-align: middle;\n",
       "    }\n",
       "\n",
       "    .dataframe tbody tr th {\n",
       "        vertical-align: top;\n",
       "    }\n",
       "\n",
       "    .dataframe thead th {\n",
       "        text-align: right;\n",
       "    }\n",
       "</style>\n",
       "<table border=\"1\" class=\"dataframe\">\n",
       "  <thead>\n",
       "    <tr style=\"text-align: right;\">\n",
       "      <th></th>\n",
       "      <th>rank</th>\n",
       "      <th>discipline</th>\n",
       "      <th>phd</th>\n",
       "      <th>service</th>\n",
       "      <th>sex</th>\n",
       "      <th>salary</th>\n",
       "    </tr>\n",
       "  </thead>\n",
       "  <tbody>\n",
       "    <tr>\n",
       "      <th>0</th>\n",
       "      <td>Prof</td>\n",
       "      <td>B</td>\n",
       "      <td>56</td>\n",
       "      <td>49</td>\n",
       "      <td>Male</td>\n",
       "      <td>186960</td>\n",
       "    </tr>\n",
       "    <tr>\n",
       "      <th>1</th>\n",
       "      <td>Prof</td>\n",
       "      <td>A</td>\n",
       "      <td>12</td>\n",
       "      <td>6</td>\n",
       "      <td>Male</td>\n",
       "      <td>93000</td>\n",
       "    </tr>\n",
       "    <tr>\n",
       "      <th>2</th>\n",
       "      <td>Prof</td>\n",
       "      <td>A</td>\n",
       "      <td>23</td>\n",
       "      <td>20</td>\n",
       "      <td>Male</td>\n",
       "      <td>110515</td>\n",
       "    </tr>\n",
       "    <tr>\n",
       "      <th>3</th>\n",
       "      <td>Prof</td>\n",
       "      <td>A</td>\n",
       "      <td>40</td>\n",
       "      <td>31</td>\n",
       "      <td>Male</td>\n",
       "      <td>131205</td>\n",
       "    </tr>\n",
       "    <tr>\n",
       "      <th>4</th>\n",
       "      <td>Prof</td>\n",
       "      <td>B</td>\n",
       "      <td>20</td>\n",
       "      <td>18</td>\n",
       "      <td>Male</td>\n",
       "      <td>104800</td>\n",
       "    </tr>\n",
       "  </tbody>\n",
       "</table>\n",
       "</div>"
      ],
      "text/plain": [
       "   rank discipline  phd  service   sex  salary\n",
       "0  Prof          B   56       49  Male  186960\n",
       "1  Prof          A   12        6  Male   93000\n",
       "2  Prof          A   23       20  Male  110515\n",
       "3  Prof          A   40       31  Male  131205\n",
       "4  Prof          B   20       18  Male  104800"
      ]
     },
     "execution_count": 77,
     "metadata": {},
     "output_type": "execute_result"
    }
   ],
   "source": [
    "#Display a few first records\n",
    "df.head()"
   ]
  },
  {
   "cell_type": "code",
   "execution_count": 78,
   "id": "6654d320-6894-4b1e-8723-bdbc97e9b4c2",
   "metadata": {},
   "outputs": [
    {
     "data": {
      "text/html": [
       "<div>\n",
       "<style scoped>\n",
       "    .dataframe tbody tr th:only-of-type {\n",
       "        vertical-align: middle;\n",
       "    }\n",
       "\n",
       "    .dataframe tbody tr th {\n",
       "        vertical-align: top;\n",
       "    }\n",
       "\n",
       "    .dataframe thead th {\n",
       "        text-align: right;\n",
       "    }\n",
       "</style>\n",
       "<table border=\"1\" class=\"dataframe\">\n",
       "  <thead>\n",
       "    <tr style=\"text-align: right;\">\n",
       "      <th></th>\n",
       "      <th>rank</th>\n",
       "      <th>discipline</th>\n",
       "      <th>phd</th>\n",
       "      <th>service</th>\n",
       "      <th>sex</th>\n",
       "      <th>salary</th>\n",
       "    </tr>\n",
       "  </thead>\n",
       "  <tbody>\n",
       "    <tr>\n",
       "      <th>0</th>\n",
       "      <td>Prof</td>\n",
       "      <td>B</td>\n",
       "      <td>56</td>\n",
       "      <td>49</td>\n",
       "      <td>Male</td>\n",
       "      <td>186960</td>\n",
       "    </tr>\n",
       "    <tr>\n",
       "      <th>1</th>\n",
       "      <td>Prof</td>\n",
       "      <td>A</td>\n",
       "      <td>12</td>\n",
       "      <td>6</td>\n",
       "      <td>Male</td>\n",
       "      <td>93000</td>\n",
       "    </tr>\n",
       "    <tr>\n",
       "      <th>2</th>\n",
       "      <td>Prof</td>\n",
       "      <td>A</td>\n",
       "      <td>23</td>\n",
       "      <td>20</td>\n",
       "      <td>Male</td>\n",
       "      <td>110515</td>\n",
       "    </tr>\n",
       "    <tr>\n",
       "      <th>3</th>\n",
       "      <td>Prof</td>\n",
       "      <td>A</td>\n",
       "      <td>40</td>\n",
       "      <td>31</td>\n",
       "      <td>Male</td>\n",
       "      <td>131205</td>\n",
       "    </tr>\n",
       "    <tr>\n",
       "      <th>4</th>\n",
       "      <td>Prof</td>\n",
       "      <td>B</td>\n",
       "      <td>20</td>\n",
       "      <td>18</td>\n",
       "      <td>Male</td>\n",
       "      <td>104800</td>\n",
       "    </tr>\n",
       "    <tr>\n",
       "      <th>5</th>\n",
       "      <td>Prof</td>\n",
       "      <td>A</td>\n",
       "      <td>20</td>\n",
       "      <td>20</td>\n",
       "      <td>Male</td>\n",
       "      <td>122400</td>\n",
       "    </tr>\n",
       "    <tr>\n",
       "      <th>6</th>\n",
       "      <td>AssocProf</td>\n",
       "      <td>A</td>\n",
       "      <td>20</td>\n",
       "      <td>17</td>\n",
       "      <td>Male</td>\n",
       "      <td>81285</td>\n",
       "    </tr>\n",
       "    <tr>\n",
       "      <th>7</th>\n",
       "      <td>Prof</td>\n",
       "      <td>A</td>\n",
       "      <td>18</td>\n",
       "      <td>18</td>\n",
       "      <td>Male</td>\n",
       "      <td>126300</td>\n",
       "    </tr>\n",
       "    <tr>\n",
       "      <th>8</th>\n",
       "      <td>Prof</td>\n",
       "      <td>A</td>\n",
       "      <td>29</td>\n",
       "      <td>19</td>\n",
       "      <td>Male</td>\n",
       "      <td>94350</td>\n",
       "    </tr>\n",
       "    <tr>\n",
       "      <th>9</th>\n",
       "      <td>Prof</td>\n",
       "      <td>A</td>\n",
       "      <td>51</td>\n",
       "      <td>51</td>\n",
       "      <td>Male</td>\n",
       "      <td>57800</td>\n",
       "    </tr>\n",
       "  </tbody>\n",
       "</table>\n",
       "</div>"
      ],
      "text/plain": [
       "        rank discipline  phd  service   sex  salary\n",
       "0       Prof          B   56       49  Male  186960\n",
       "1       Prof          A   12        6  Male   93000\n",
       "2       Prof          A   23       20  Male  110515\n",
       "3       Prof          A   40       31  Male  131205\n",
       "4       Prof          B   20       18  Male  104800\n",
       "5       Prof          A   20       20  Male  122400\n",
       "6  AssocProf          A   20       17  Male   81285\n",
       "7       Prof          A   18       18  Male  126300\n",
       "8       Prof          A   29       19  Male   94350\n",
       "9       Prof          A   51       51  Male   57800"
      ]
     },
     "execution_count": 78,
     "metadata": {},
     "output_type": "execute_result"
    }
   ],
   "source": [
    "#Display first 10 records\n",
    "df.head(10)"
   ]
  },
  {
   "cell_type": "code",
   "execution_count": 79,
   "id": "52c4d45e-dd7e-45e7-bff2-e067d22aa4c8",
   "metadata": {},
   "outputs": [
    {
     "data": {
      "text/html": [
       "<div>\n",
       "<style scoped>\n",
       "    .dataframe tbody tr th:only-of-type {\n",
       "        vertical-align: middle;\n",
       "    }\n",
       "\n",
       "    .dataframe tbody tr th {\n",
       "        vertical-align: top;\n",
       "    }\n",
       "\n",
       "    .dataframe thead th {\n",
       "        text-align: right;\n",
       "    }\n",
       "</style>\n",
       "<table border=\"1\" class=\"dataframe\">\n",
       "  <thead>\n",
       "    <tr style=\"text-align: right;\">\n",
       "      <th></th>\n",
       "      <th>rank</th>\n",
       "      <th>discipline</th>\n",
       "      <th>phd</th>\n",
       "      <th>service</th>\n",
       "      <th>sex</th>\n",
       "      <th>salary</th>\n",
       "    </tr>\n",
       "  </thead>\n",
       "  <tbody>\n",
       "    <tr>\n",
       "      <th>73</th>\n",
       "      <td>Prof</td>\n",
       "      <td>B</td>\n",
       "      <td>18</td>\n",
       "      <td>10</td>\n",
       "      <td>Female</td>\n",
       "      <td>105450</td>\n",
       "    </tr>\n",
       "    <tr>\n",
       "      <th>74</th>\n",
       "      <td>AssocProf</td>\n",
       "      <td>B</td>\n",
       "      <td>19</td>\n",
       "      <td>6</td>\n",
       "      <td>Female</td>\n",
       "      <td>104542</td>\n",
       "    </tr>\n",
       "    <tr>\n",
       "      <th>75</th>\n",
       "      <td>Prof</td>\n",
       "      <td>B</td>\n",
       "      <td>17</td>\n",
       "      <td>17</td>\n",
       "      <td>Female</td>\n",
       "      <td>124312</td>\n",
       "    </tr>\n",
       "    <tr>\n",
       "      <th>76</th>\n",
       "      <td>Prof</td>\n",
       "      <td>A</td>\n",
       "      <td>28</td>\n",
       "      <td>14</td>\n",
       "      <td>Female</td>\n",
       "      <td>109954</td>\n",
       "    </tr>\n",
       "    <tr>\n",
       "      <th>77</th>\n",
       "      <td>Prof</td>\n",
       "      <td>A</td>\n",
       "      <td>23</td>\n",
       "      <td>15</td>\n",
       "      <td>Female</td>\n",
       "      <td>109646</td>\n",
       "    </tr>\n",
       "  </tbody>\n",
       "</table>\n",
       "</div>"
      ],
      "text/plain": [
       "         rank discipline  phd  service     sex  salary\n",
       "73       Prof          B   18       10  Female  105450\n",
       "74  AssocProf          B   19        6  Female  104542\n",
       "75       Prof          B   17       17  Female  124312\n",
       "76       Prof          A   28       14  Female  109954\n",
       "77       Prof          A   23       15  Female  109646"
      ]
     },
     "execution_count": 79,
     "metadata": {},
     "output_type": "execute_result"
    }
   ],
   "source": [
    "#Display the last 3 records\n",
    "df.tail()"
   ]
  },
  {
   "cell_type": "code",
   "execution_count": 80,
   "id": "ed180d7a-be25-4f26-8d1f-1ac856e68e01",
   "metadata": {},
   "outputs": [
    {
     "data": {
      "text/plain": [
       "0     False\n",
       "1     False\n",
       "2     False\n",
       "3     False\n",
       "4     False\n",
       "      ...  \n",
       "73    False\n",
       "74    False\n",
       "75    False\n",
       "76    False\n",
       "77    False\n",
       "Name: sex, Length: 78, dtype: bool"
      ]
     },
     "execution_count": 80,
     "metadata": {},
     "output_type": "execute_result"
    }
   ],
   "source": [
    "# Display lecturers who are Male\n",
    "df['sex']==\"female\""
   ]
  },
  {
   "cell_type": "code",
   "execution_count": 81,
   "id": "3f068c5b-01ef-435f-beb7-4fbac148c5be",
   "metadata": {},
   "outputs": [
    {
     "data": {
      "text/html": [
       "<div>\n",
       "<style scoped>\n",
       "    .dataframe tbody tr th:only-of-type {\n",
       "        vertical-align: middle;\n",
       "    }\n",
       "\n",
       "    .dataframe tbody tr th {\n",
       "        vertical-align: top;\n",
       "    }\n",
       "\n",
       "    .dataframe thead th {\n",
       "        text-align: right;\n",
       "    }\n",
       "</style>\n",
       "<table border=\"1\" class=\"dataframe\">\n",
       "  <thead>\n",
       "    <tr style=\"text-align: right;\">\n",
       "      <th></th>\n",
       "      <th>sex</th>\n",
       "      <th>rank</th>\n",
       "    </tr>\n",
       "  </thead>\n",
       "  <tbody>\n",
       "    <tr>\n",
       "      <th>0</th>\n",
       "      <td>Male</td>\n",
       "      <td>Prof</td>\n",
       "    </tr>\n",
       "    <tr>\n",
       "      <th>1</th>\n",
       "      <td>Male</td>\n",
       "      <td>Prof</td>\n",
       "    </tr>\n",
       "    <tr>\n",
       "      <th>2</th>\n",
       "      <td>Male</td>\n",
       "      <td>Prof</td>\n",
       "    </tr>\n",
       "    <tr>\n",
       "      <th>3</th>\n",
       "      <td>Male</td>\n",
       "      <td>Prof</td>\n",
       "    </tr>\n",
       "    <tr>\n",
       "      <th>4</th>\n",
       "      <td>Male</td>\n",
       "      <td>Prof</td>\n",
       "    </tr>\n",
       "    <tr>\n",
       "      <th>...</th>\n",
       "      <td>...</td>\n",
       "      <td>...</td>\n",
       "    </tr>\n",
       "    <tr>\n",
       "      <th>73</th>\n",
       "      <td>Female</td>\n",
       "      <td>Prof</td>\n",
       "    </tr>\n",
       "    <tr>\n",
       "      <th>74</th>\n",
       "      <td>Female</td>\n",
       "      <td>AssocProf</td>\n",
       "    </tr>\n",
       "    <tr>\n",
       "      <th>75</th>\n",
       "      <td>Female</td>\n",
       "      <td>Prof</td>\n",
       "    </tr>\n",
       "    <tr>\n",
       "      <th>76</th>\n",
       "      <td>Female</td>\n",
       "      <td>Prof</td>\n",
       "    </tr>\n",
       "    <tr>\n",
       "      <th>77</th>\n",
       "      <td>Female</td>\n",
       "      <td>Prof</td>\n",
       "    </tr>\n",
       "  </tbody>\n",
       "</table>\n",
       "<p>78 rows × 2 columns</p>\n",
       "</div>"
      ],
      "text/plain": [
       "       sex       rank\n",
       "0     Male       Prof\n",
       "1     Male       Prof\n",
       "2     Male       Prof\n",
       "3     Male       Prof\n",
       "4     Male       Prof\n",
       "..     ...        ...\n",
       "73  Female       Prof\n",
       "74  Female  AssocProf\n",
       "75  Female       Prof\n",
       "76  Female       Prof\n",
       "77  Female       Prof\n",
       "\n",
       "[78 rows x 2 columns]"
      ]
     },
     "execution_count": 81,
     "metadata": {},
     "output_type": "execute_result"
    }
   ],
   "source": [
    "# Display lecturer who are Male with all ranks\n",
    "df[[\"sex\",\"rank\"]]"
   ]
  },
  {
   "cell_type": "code",
   "execution_count": 82,
   "id": "13d4319b-1f24-4e2c-945a-6c4255b84544",
   "metadata": {},
   "outputs": [
    {
     "data": {
      "text/html": [
       "<div>\n",
       "<style scoped>\n",
       "    .dataframe tbody tr th:only-of-type {\n",
       "        vertical-align: middle;\n",
       "    }\n",
       "\n",
       "    .dataframe tbody tr th {\n",
       "        vertical-align: top;\n",
       "    }\n",
       "\n",
       "    .dataframe thead th {\n",
       "        text-align: right;\n",
       "    }\n",
       "</style>\n",
       "<table border=\"1\" class=\"dataframe\">\n",
       "  <thead>\n",
       "    <tr style=\"text-align: right;\">\n",
       "      <th></th>\n",
       "      <th>rank</th>\n",
       "      <th>discipline</th>\n",
       "      <th>phd</th>\n",
       "      <th>service</th>\n",
       "      <th>sex</th>\n",
       "      <th>salary</th>\n",
       "    </tr>\n",
       "  </thead>\n",
       "  <tbody>\n",
       "    <tr>\n",
       "      <th>0</th>\n",
       "      <td>Prof</td>\n",
       "      <td>B</td>\n",
       "      <td>56</td>\n",
       "      <td>49</td>\n",
       "      <td>Male</td>\n",
       "      <td>186960</td>\n",
       "    </tr>\n",
       "    <tr>\n",
       "      <th>1</th>\n",
       "      <td>Prof</td>\n",
       "      <td>A</td>\n",
       "      <td>12</td>\n",
       "      <td>6</td>\n",
       "      <td>Male</td>\n",
       "      <td>93000</td>\n",
       "    </tr>\n",
       "    <tr>\n",
       "      <th>2</th>\n",
       "      <td>Prof</td>\n",
       "      <td>A</td>\n",
       "      <td>23</td>\n",
       "      <td>20</td>\n",
       "      <td>Male</td>\n",
       "      <td>110515</td>\n",
       "    </tr>\n",
       "    <tr>\n",
       "      <th>3</th>\n",
       "      <td>Prof</td>\n",
       "      <td>A</td>\n",
       "      <td>40</td>\n",
       "      <td>31</td>\n",
       "      <td>Male</td>\n",
       "      <td>131205</td>\n",
       "    </tr>\n",
       "    <tr>\n",
       "      <th>4</th>\n",
       "      <td>Prof</td>\n",
       "      <td>B</td>\n",
       "      <td>20</td>\n",
       "      <td>18</td>\n",
       "      <td>Male</td>\n",
       "      <td>104800</td>\n",
       "    </tr>\n",
       "  </tbody>\n",
       "</table>\n",
       "</div>"
      ],
      "text/plain": [
       "   rank discipline  phd  service   sex  salary\n",
       "0  Prof          B   56       49  Male  186960\n",
       "1  Prof          A   12        6  Male   93000\n",
       "2  Prof          A   23       20  Male  110515\n",
       "3  Prof          A   40       31  Male  131205\n",
       "4  Prof          B   20       18  Male  104800"
      ]
     },
     "execution_count": 82,
     "metadata": {},
     "output_type": "execute_result"
    }
   ],
   "source": [
    "#Display first 20 records\n",
    "df.head()"
   ]
  },
  {
   "cell_type": "code",
   "execution_count": 83,
   "id": "580758e8-5940-49f7-9dfc-5cee95dc673b",
   "metadata": {},
   "outputs": [
    {
     "data": {
      "text/html": [
       "<div>\n",
       "<style scoped>\n",
       "    .dataframe tbody tr th:only-of-type {\n",
       "        vertical-align: middle;\n",
       "    }\n",
       "\n",
       "    .dataframe tbody tr th {\n",
       "        vertical-align: top;\n",
       "    }\n",
       "\n",
       "    .dataframe thead th {\n",
       "        text-align: right;\n",
       "    }\n",
       "</style>\n",
       "<table border=\"1\" class=\"dataframe\">\n",
       "  <thead>\n",
       "    <tr style=\"text-align: right;\">\n",
       "      <th></th>\n",
       "      <th>rank</th>\n",
       "      <th>discipline</th>\n",
       "      <th>phd</th>\n",
       "      <th>service</th>\n",
       "      <th>sex</th>\n",
       "      <th>salary</th>\n",
       "    </tr>\n",
       "  </thead>\n",
       "  <tbody>\n",
       "    <tr>\n",
       "      <th>73</th>\n",
       "      <td>Prof</td>\n",
       "      <td>B</td>\n",
       "      <td>18</td>\n",
       "      <td>10</td>\n",
       "      <td>Female</td>\n",
       "      <td>105450</td>\n",
       "    </tr>\n",
       "    <tr>\n",
       "      <th>74</th>\n",
       "      <td>AssocProf</td>\n",
       "      <td>B</td>\n",
       "      <td>19</td>\n",
       "      <td>6</td>\n",
       "      <td>Female</td>\n",
       "      <td>104542</td>\n",
       "    </tr>\n",
       "    <tr>\n",
       "      <th>75</th>\n",
       "      <td>Prof</td>\n",
       "      <td>B</td>\n",
       "      <td>17</td>\n",
       "      <td>17</td>\n",
       "      <td>Female</td>\n",
       "      <td>124312</td>\n",
       "    </tr>\n",
       "    <tr>\n",
       "      <th>76</th>\n",
       "      <td>Prof</td>\n",
       "      <td>A</td>\n",
       "      <td>28</td>\n",
       "      <td>14</td>\n",
       "      <td>Female</td>\n",
       "      <td>109954</td>\n",
       "    </tr>\n",
       "    <tr>\n",
       "      <th>77</th>\n",
       "      <td>Prof</td>\n",
       "      <td>A</td>\n",
       "      <td>23</td>\n",
       "      <td>15</td>\n",
       "      <td>Female</td>\n",
       "      <td>109646</td>\n",
       "    </tr>\n",
       "  </tbody>\n",
       "</table>\n",
       "</div>"
      ],
      "text/plain": [
       "         rank discipline  phd  service     sex  salary\n",
       "73       Prof          B   18       10  Female  105450\n",
       "74  AssocProf          B   19        6  Female  104542\n",
       "75       Prof          B   17       17  Female  124312\n",
       "76       Prof          A   28       14  Female  109954\n",
       "77       Prof          A   23       15  Female  109646"
      ]
     },
     "execution_count": 83,
     "metadata": {},
     "output_type": "execute_result"
    }
   ],
   "source": [
    "#Display the last 5 records\n",
    "# <your code goes here>\n",
    "df.tail(5)"
   ]
  },
  {
   "cell_type": "code",
   "execution_count": 84,
   "id": "c1a7d7b1-6ea2-4dd6-a571-dd4d449c9096",
   "metadata": {},
   "outputs": [
    {
     "data": {
      "text/plain": [
       "rank          object\n",
       "discipline    object\n",
       "phd            int64\n",
       "service        int64\n",
       "sex           object\n",
       "salary         int64\n",
       "dtype: object"
      ]
     },
     "execution_count": 84,
     "metadata": {},
     "output_type": "execute_result"
    }
   ],
   "source": [
    "#Identify the type of df object\n",
    "#type(df)\n",
    "df.dtypes"
   ]
  },
  {
   "cell_type": "code",
   "execution_count": 85,
   "id": "146d70ea-3211-444a-b24a-295f8b738418",
   "metadata": {},
   "outputs": [
    {
     "data": {
      "text/plain": [
       "dtype('int64')"
      ]
     },
     "execution_count": 85,
     "metadata": {},
     "output_type": "execute_result"
    }
   ],
   "source": [
    "#Check the type of a column \"salary\"\n",
    "df['salary'].dtype"
   ]
  },
  {
   "cell_type": "code",
   "execution_count": 86,
   "id": "c468ab58-b9b9-4dc1-8584-2d6da0776696",
   "metadata": {},
   "outputs": [
    {
     "data": {
      "text/plain": [
       "rank          object\n",
       "discipline    object\n",
       "phd            int64\n",
       "service        int64\n",
       "sex           object\n",
       "salary         int64\n",
       "dtype: object"
      ]
     },
     "execution_count": 86,
     "metadata": {},
     "output_type": "execute_result"
    }
   ],
   "source": [
    "#List the types of all columns\n",
    "df.dtypes"
   ]
  },
  {
   "cell_type": "code",
   "execution_count": 87,
   "id": "7ec0ff9f-9d98-433e-ab06-f6d02cfdeb32",
   "metadata": {},
   "outputs": [
    {
     "data": {
      "text/plain": [
       "Index(['rank', 'discipline', 'phd', 'service', 'sex', 'salary'], dtype='object')"
      ]
     },
     "execution_count": 87,
     "metadata": {},
     "output_type": "execute_result"
    }
   ],
   "source": [
    "#List the column names\n",
    "df.columns"
   ]
  },
  {
   "cell_type": "code",
   "execution_count": 88,
   "id": "07d26192-596d-41c7-af89-057975553ced",
   "metadata": {},
   "outputs": [
    {
     "data": {
      "text/plain": [
       "[RangeIndex(start=0, stop=78, step=1),\n",
       " Index(['rank', 'discipline', 'phd', 'service', 'sex', 'salary'], dtype='object')]"
      ]
     },
     "execution_count": 88,
     "metadata": {},
     "output_type": "execute_result"
    }
   ],
   "source": [
    "#List the row labels and the column names\n",
    "df.axes"
   ]
  },
  {
   "cell_type": "code",
   "execution_count": 89,
   "id": "594f795e-4c6d-4c61-aef9-ce4ab9af43b1",
   "metadata": {},
   "outputs": [
    {
     "data": {
      "text/plain": [
       "2"
      ]
     },
     "execution_count": 89,
     "metadata": {},
     "output_type": "execute_result"
    }
   ],
   "source": [
    "#Number of dimensions\n",
    "df.ndim"
   ]
  },
  {
   "cell_type": "code",
   "execution_count": 90,
   "id": "c6ffe6e8-5417-4b6e-b3e1-44e7f4a72cfe",
   "metadata": {},
   "outputs": [
    {
     "data": {
      "text/plain": [
       "468"
      ]
     },
     "execution_count": 90,
     "metadata": {},
     "output_type": "execute_result"
    }
   ],
   "source": [
    "#Total number of elements in the Data Frame\n",
    "df.size"
   ]
  },
  {
   "cell_type": "code",
   "execution_count": 91,
   "id": "50d4a378-adfc-48d8-bece-a225cf616c90",
   "metadata": {},
   "outputs": [
    {
     "data": {
      "text/plain": [
       "(78, 6)"
      ]
     },
     "execution_count": 91,
     "metadata": {},
     "output_type": "execute_result"
    }
   ],
   "source": [
    "468\n",
    "#Number of rows and columns\n",
    "df.shape"
   ]
  },
  {
   "cell_type": "code",
   "execution_count": 92,
   "id": "823fe387-16cf-4934-8d3a-9ae1fffff253",
   "metadata": {},
   "outputs": [
    {
     "data": {
      "text/html": [
       "<div>\n",
       "<style scoped>\n",
       "    .dataframe tbody tr th:only-of-type {\n",
       "        vertical-align: middle;\n",
       "    }\n",
       "\n",
       "    .dataframe tbody tr th {\n",
       "        vertical-align: top;\n",
       "    }\n",
       "\n",
       "    .dataframe thead th {\n",
       "        text-align: right;\n",
       "    }\n",
       "</style>\n",
       "<table border=\"1\" class=\"dataframe\">\n",
       "  <thead>\n",
       "    <tr style=\"text-align: right;\">\n",
       "      <th></th>\n",
       "      <th>phd</th>\n",
       "      <th>service</th>\n",
       "      <th>salary</th>\n",
       "    </tr>\n",
       "  </thead>\n",
       "  <tbody>\n",
       "    <tr>\n",
       "      <th>count</th>\n",
       "      <td>78.000000</td>\n",
       "      <td>78.000000</td>\n",
       "      <td>78.000000</td>\n",
       "    </tr>\n",
       "    <tr>\n",
       "      <th>mean</th>\n",
       "      <td>19.705128</td>\n",
       "      <td>15.051282</td>\n",
       "      <td>108023.782051</td>\n",
       "    </tr>\n",
       "    <tr>\n",
       "      <th>std</th>\n",
       "      <td>12.498425</td>\n",
       "      <td>12.139768</td>\n",
       "      <td>28293.661022</td>\n",
       "    </tr>\n",
       "    <tr>\n",
       "      <th>min</th>\n",
       "      <td>1.000000</td>\n",
       "      <td>0.000000</td>\n",
       "      <td>57800.000000</td>\n",
       "    </tr>\n",
       "    <tr>\n",
       "      <th>25%</th>\n",
       "      <td>10.250000</td>\n",
       "      <td>5.250000</td>\n",
       "      <td>88612.500000</td>\n",
       "    </tr>\n",
       "    <tr>\n",
       "      <th>50%</th>\n",
       "      <td>18.500000</td>\n",
       "      <td>14.500000</td>\n",
       "      <td>104671.000000</td>\n",
       "    </tr>\n",
       "    <tr>\n",
       "      <th>75%</th>\n",
       "      <td>27.750000</td>\n",
       "      <td>20.750000</td>\n",
       "      <td>126774.750000</td>\n",
       "    </tr>\n",
       "    <tr>\n",
       "      <th>max</th>\n",
       "      <td>56.000000</td>\n",
       "      <td>51.000000</td>\n",
       "      <td>186960.000000</td>\n",
       "    </tr>\n",
       "  </tbody>\n",
       "</table>\n",
       "</div>"
      ],
      "text/plain": [
       "             phd    service         salary\n",
       "count  78.000000  78.000000      78.000000\n",
       "mean   19.705128  15.051282  108023.782051\n",
       "std    12.498425  12.139768   28293.661022\n",
       "min     1.000000   0.000000   57800.000000\n",
       "25%    10.250000   5.250000   88612.500000\n",
       "50%    18.500000  14.500000  104671.000000\n",
       "75%    27.750000  20.750000  126774.750000\n",
       "max    56.000000  51.000000  186960.000000"
      ]
     },
     "execution_count": 92,
     "metadata": {},
     "output_type": "execute_result"
    }
   ],
   "source": [
    "(78, 6)\n",
    "#Output basic statistics for the numeric columns\n",
    "df.describe()"
   ]
  },
  {
   "cell_type": "code",
   "execution_count": 93,
   "id": "5eb9d9aa-5157-44b7-8b94-c3c92ad12c0e",
   "metadata": {},
   "outputs": [
    {
     "data": {
      "text/plain": [
       "phd            19.705128\n",
       "service        15.051282\n",
       "salary     108023.782051\n",
       "dtype: float64"
      ]
     },
     "execution_count": 93,
     "metadata": {},
     "output_type": "execute_result"
    }
   ],
   "source": [
    "#Calculate mean for all numeric columns\n",
    "df.mean(numeric_only=True) #for pandas version 2.2.2\n",
    "#df.mean()"
   ]
  },
  {
   "cell_type": "code",
   "execution_count": 103,
   "id": "696544c0-9831-4f50-ad26-18c25f7a2aab",
   "metadata": {},
   "outputs": [
    {
     "data": {
      "text/plain": [
       "108023.78205128205"
      ]
     },
     "execution_count": 103,
     "metadata": {},
     "output_type": "execute_result"
    }
   ],
   "source": [
    "np.mean(df['salary'])"
   ]
  },
  {
   "cell_type": "code",
   "execution_count": 94,
   "id": "2a6d7644-82b9-43ad-84d7-9c62a397b58c",
   "metadata": {},
   "outputs": [
    {
     "data": {
      "text/plain": [
       "15.051282051282051"
      ]
     },
     "execution_count": 94,
     "metadata": {},
     "output_type": "execute_result"
    }
   ],
   "source": [
    "#Calculate mean for service columns\n",
    "#df['service'].mean()\n",
    "np.mean(df['service'])"
   ]
  },
  {
   "cell_type": "markdown",
   "id": "c850755d-8bf9-4a57-8636-4808f6fe5492",
   "metadata": {},
   "source": [
    "## Exercise"
   ]
  },
  {
   "cell_type": "code",
   "execution_count": 95,
   "id": "ccdc2c3a-c90b-44c9-85bb-0914227bd0ee",
   "metadata": {},
   "outputs": [
    {
     "data": {
      "text/plain": [
       "array([ 57800,  62884,  63100,  71065,  72500,  72500,  73000,  73300,\n",
       "        73500,  74692,  74830,  75044,  77000,  77500,  77500,  78500,\n",
       "        80225,  81285,  85000,  88000,  90450,  91000,  91000,  91100,\n",
       "        91300,  92000,  92000,  92000,  93000,  94350,  97032,  99418,\n",
       "       102000, 103106, 103275, 103613, 103750, 103994, 104542, 104800,\n",
       "       105000, 105450, 107008, 107300, 109646, 109650, 109954, 110515,\n",
       "       111512, 116450, 117555, 119800, 120000, 122400, 122960, 123683,\n",
       "       124312, 126300, 126933, 127512, 128250, 129000, 131205, 134778,\n",
       "       137000, 140096, 144651, 146856, 148750, 150480, 150500, 151768,\n",
       "       153750, 155750, 155865, 161101, 162200, 186960], dtype=int64)"
      ]
     },
     "execution_count": 95,
     "metadata": {},
     "output_type": "execute_result"
    }
   ],
   "source": [
    "np.sort(df.salary)"
   ]
  },
  {
   "cell_type": "code",
   "execution_count": 96,
   "id": "f7c84193-40e1-4693-a28c-15d9021a458f",
   "metadata": {},
   "outputs": [
    {
     "name": "stdout",
     "output_type": "stream",
     "text": [
      "[186960, 162200, 161101, 155865, 155750, 153750, 151768, 150500, 150480, 148750, 146856, 144651, 140096, 137000, 134778, 131205, 129000, 128250, 127512, 126933, 126300, 124312, 123683, 122960, 122400, 120000, 119800, 117555, 116450, 111512, 110515, 109954, 109650, 109646, 107300, 107008, 105450, 105000, 104800, 104542, 103994, 103750, 103613, 103275, 103106, 102000, 99418, 97032, 94350, 93000, 92000, 92000, 92000, 91300, 91100, 91000, 91000, 90450, 88000, 85000, 81285, 80225, 78500, 77500, 77500, 77000, 75044, 74830, 74692, 73500, 73300, 73000, 72500, 72500, 71065, 63100, 62884, 57800]\n"
     ]
    }
   ],
   "source": [
    "print(sorted(df.salary, reverse=True))"
   ]
  },
  {
   "cell_type": "code",
   "execution_count": 97,
   "id": "0e9bc4db-ea75-42e5-bbf2-40b8a4fc037b",
   "metadata": {},
   "outputs": [
    {
     "data": {
      "text/plain": [
       "phd           12.498425\n",
       "service       12.139768\n",
       "salary     28293.661022\n",
       "dtype: float64"
      ]
     },
     "execution_count": 97,
     "metadata": {},
     "output_type": "execute_result"
    }
   ],
   "source": [
    "#Calculate the standard deviation (std() method) for all numeric columns\n",
    "df.std(numeric_only=True) #for pandas version 2.2.2"
   ]
  },
  {
   "cell_type": "code",
   "execution_count": 98,
   "id": "a17fe200-a9c9-44a8-80c6-ad78ca18ac43",
   "metadata": {},
   "outputs": [
    {
     "data": {
      "text/plain": [
       "phd            21.52\n",
       "service        17.60\n",
       "salary     113789.14\n",
       "dtype: float64"
      ]
     },
     "execution_count": 98,
     "metadata": {},
     "output_type": "execute_result"
    }
   ],
   "source": [
    "#Calculate average of the columns in the first 50 rows\n",
    "# <your code goes here>\n",
    "df.head(50).mean(numeric_only=True) #for pandas version 2.2.2"
   ]
  },
  {
   "cell_type": "code",
   "execution_count": 99,
   "id": "13385ccb-d1b0-4a2c-b845-1bf0ca167a98",
   "metadata": {},
   "outputs": [
    {
     "data": {
      "text/plain": [
       "78"
      ]
     },
     "execution_count": 99,
     "metadata": {},
     "output_type": "execute_result"
    }
   ],
   "source": [
    "#Calculate how many values in the salary column (use count() method)\n",
    "# <your code goes here>\n",
    "df.count().salary"
   ]
  },
  {
   "cell_type": "code",
   "execution_count": 100,
   "id": "3e9a5300-2c63-4cf5-aa93-e3f70860c18e",
   "metadata": {},
   "outputs": [
    {
     "data": {
      "text/plain": [
       "108023.78205128205"
      ]
     },
     "execution_count": 100,
     "metadata": {},
     "output_type": "execute_result"
    }
   ],
   "source": [
    "#Calculate the average salary\n",
    "df['salary'].mean()"
   ]
  },
  {
   "cell_type": "code",
   "execution_count": 101,
   "id": "99413b82-b728-4e11-b297-db40e14d405a",
   "metadata": {},
   "outputs": [
    {
     "data": {
      "text/plain": [
       "108023.78205128205"
      ]
     },
     "execution_count": 101,
     "metadata": {},
     "output_type": "execute_result"
    }
   ],
   "source": [
    "np.mean(df['salary'])"
   ]
  },
  {
   "cell_type": "code",
   "execution_count": 107,
   "id": "2a12354d-184c-410d-9edb-a8869fa49e36",
   "metadata": {},
   "outputs": [
    {
     "data": {
      "text/plain": [
       "0    186960\n",
       "1     93000\n",
       "2    110515\n",
       "3    131205\n",
       "4    104800\n",
       "Name: salary, dtype: int64"
      ]
     },
     "execution_count": 107,
     "metadata": {},
     "output_type": "execute_result"
    }
   ],
   "source": [
    "#Select column salary\n",
    "df1 = df['salary']\n",
    "df1.head()"
   ]
  },
  {
   "cell_type": "code",
   "execution_count": 108,
   "id": "99621559-c7f5-4f19-ba2a-db4476313bb1",
   "metadata": {},
   "outputs": [
    {
     "data": {
      "text/plain": [
       "dtype('int64')"
      ]
     },
     "execution_count": 108,
     "metadata": {},
     "output_type": "execute_result"
    }
   ],
   "source": [
    "df1.dtypes"
   ]
  },
  {
   "cell_type": "markdown",
   "id": "fbc86d3e-be66-4d02-a867-771522464049",
   "metadata": {},
   "source": [
    "### Sorting the Data"
   ]
  },
  {
   "cell_type": "code",
   "execution_count": 114,
   "id": "bafa6832-0e06-48d5-a12e-07a3e47ee0bc",
   "metadata": {},
   "outputs": [
    {
     "data": {
      "text/html": [
       "<div>\n",
       "<style scoped>\n",
       "    .dataframe tbody tr th:only-of-type {\n",
       "        vertical-align: middle;\n",
       "    }\n",
       "\n",
       "    .dataframe tbody tr th {\n",
       "        vertical-align: top;\n",
       "    }\n",
       "\n",
       "    .dataframe thead th {\n",
       "        text-align: right;\n",
       "    }\n",
       "</style>\n",
       "<table border=\"1\" class=\"dataframe\">\n",
       "  <thead>\n",
       "    <tr style=\"text-align: right;\">\n",
       "      <th></th>\n",
       "      <th>rank</th>\n",
       "      <th>discipline</th>\n",
       "      <th>phd</th>\n",
       "      <th>service</th>\n",
       "      <th>sex</th>\n",
       "      <th>salary</th>\n",
       "    </tr>\n",
       "  </thead>\n",
       "  <tbody>\n",
       "    <tr>\n",
       "      <th>55</th>\n",
       "      <td>AsstProf</td>\n",
       "      <td>A</td>\n",
       "      <td>2</td>\n",
       "      <td>0</td>\n",
       "      <td>Female</td>\n",
       "      <td>72500</td>\n",
       "    </tr>\n",
       "    <tr>\n",
       "      <th>23</th>\n",
       "      <td>AsstProf</td>\n",
       "      <td>A</td>\n",
       "      <td>2</td>\n",
       "      <td>0</td>\n",
       "      <td>Male</td>\n",
       "      <td>85000</td>\n",
       "    </tr>\n",
       "    <tr>\n",
       "      <th>43</th>\n",
       "      <td>AsstProf</td>\n",
       "      <td>B</td>\n",
       "      <td>5</td>\n",
       "      <td>0</td>\n",
       "      <td>Female</td>\n",
       "      <td>77000</td>\n",
       "    </tr>\n",
       "    <tr>\n",
       "      <th>17</th>\n",
       "      <td>AsstProf</td>\n",
       "      <td>B</td>\n",
       "      <td>4</td>\n",
       "      <td>0</td>\n",
       "      <td>Male</td>\n",
       "      <td>92000</td>\n",
       "    </tr>\n",
       "    <tr>\n",
       "      <th>12</th>\n",
       "      <td>AsstProf</td>\n",
       "      <td>B</td>\n",
       "      <td>1</td>\n",
       "      <td>0</td>\n",
       "      <td>Male</td>\n",
       "      <td>88000</td>\n",
       "    </tr>\n",
       "  </tbody>\n",
       "</table>\n",
       "</div>"
      ],
      "text/plain": [
       "        rank discipline  phd  service     sex  salary\n",
       "55  AsstProf          A    2        0  Female   72500\n",
       "23  AsstProf          A    2        0    Male   85000\n",
       "43  AsstProf          B    5        0  Female   77000\n",
       "17  AsstProf          B    4        0    Male   92000\n",
       "12  AsstProf          B    1        0    Male   88000"
      ]
     },
     "execution_count": 114,
     "metadata": {},
     "output_type": "execute_result"
    }
   ],
   "source": [
    "#Sort the data frame by yrs.service and create a new data frame\n",
    "df_sorted = df.sort_values(by = 'service')\n",
    "df_sorted.head()"
   ]
  },
  {
   "cell_type": "code",
   "execution_count": 117,
   "id": "f60644e2-1143-4e50-811d-d53e0b164e7c",
   "metadata": {},
   "outputs": [
    {
     "data": {
      "text/html": [
       "<div>\n",
       "<style scoped>\n",
       "    .dataframe tbody tr th:only-of-type {\n",
       "        vertical-align: middle;\n",
       "    }\n",
       "\n",
       "    .dataframe tbody tr th {\n",
       "        vertical-align: top;\n",
       "    }\n",
       "\n",
       "    .dataframe thead th {\n",
       "        text-align: right;\n",
       "    }\n",
       "</style>\n",
       "<table border=\"1\" class=\"dataframe\">\n",
       "  <thead>\n",
       "    <tr style=\"text-align: right;\">\n",
       "      <th></th>\n",
       "      <th>rank</th>\n",
       "      <th>discipline</th>\n",
       "      <th>phd</th>\n",
       "      <th>service</th>\n",
       "      <th>sex</th>\n",
       "      <th>salary</th>\n",
       "    </tr>\n",
       "  </thead>\n",
       "  <tbody>\n",
       "    <tr>\n",
       "      <th>21</th>\n",
       "      <td>Prof</td>\n",
       "      <td>A</td>\n",
       "      <td>33</td>\n",
       "      <td>30</td>\n",
       "      <td>Male</td>\n",
       "      <td>103106</td>\n",
       "    </tr>\n",
       "    <tr>\n",
       "      <th>25</th>\n",
       "      <td>Prof</td>\n",
       "      <td>B</td>\n",
       "      <td>35</td>\n",
       "      <td>31</td>\n",
       "      <td>Male</td>\n",
       "      <td>99418</td>\n",
       "    </tr>\n",
       "    <tr>\n",
       "      <th>3</th>\n",
       "      <td>Prof</td>\n",
       "      <td>A</td>\n",
       "      <td>40</td>\n",
       "      <td>31</td>\n",
       "      <td>Male</td>\n",
       "      <td>131205</td>\n",
       "    </tr>\n",
       "    <tr>\n",
       "      <th>13</th>\n",
       "      <td>Prof</td>\n",
       "      <td>B</td>\n",
       "      <td>35</td>\n",
       "      <td>33</td>\n",
       "      <td>Male</td>\n",
       "      <td>162200</td>\n",
       "    </tr>\n",
       "    <tr>\n",
       "      <th>10</th>\n",
       "      <td>Prof</td>\n",
       "      <td>B</td>\n",
       "      <td>39</td>\n",
       "      <td>33</td>\n",
       "      <td>Male</td>\n",
       "      <td>128250</td>\n",
       "    </tr>\n",
       "    <tr>\n",
       "      <th>40</th>\n",
       "      <td>Prof</td>\n",
       "      <td>A</td>\n",
       "      <td>39</td>\n",
       "      <td>36</td>\n",
       "      <td>Female</td>\n",
       "      <td>137000</td>\n",
       "    </tr>\n",
       "    <tr>\n",
       "      <th>27</th>\n",
       "      <td>Prof</td>\n",
       "      <td>A</td>\n",
       "      <td>45</td>\n",
       "      <td>43</td>\n",
       "      <td>Male</td>\n",
       "      <td>155865</td>\n",
       "    </tr>\n",
       "    <tr>\n",
       "      <th>36</th>\n",
       "      <td>Prof</td>\n",
       "      <td>B</td>\n",
       "      <td>45</td>\n",
       "      <td>45</td>\n",
       "      <td>Male</td>\n",
       "      <td>146856</td>\n",
       "    </tr>\n",
       "    <tr>\n",
       "      <th>0</th>\n",
       "      <td>Prof</td>\n",
       "      <td>B</td>\n",
       "      <td>56</td>\n",
       "      <td>49</td>\n",
       "      <td>Male</td>\n",
       "      <td>186960</td>\n",
       "    </tr>\n",
       "    <tr>\n",
       "      <th>9</th>\n",
       "      <td>Prof</td>\n",
       "      <td>A</td>\n",
       "      <td>51</td>\n",
       "      <td>51</td>\n",
       "      <td>Male</td>\n",
       "      <td>57800</td>\n",
       "    </tr>\n",
       "  </tbody>\n",
       "</table>\n",
       "</div>"
      ],
      "text/plain": [
       "    rank discipline  phd  service     sex  salary\n",
       "21  Prof          A   33       30    Male  103106\n",
       "25  Prof          B   35       31    Male   99418\n",
       "3   Prof          A   40       31    Male  131205\n",
       "13  Prof          B   35       33    Male  162200\n",
       "10  Prof          B   39       33    Male  128250\n",
       "40  Prof          A   39       36  Female  137000\n",
       "27  Prof          A   45       43    Male  155865\n",
       "36  Prof          B   45       45    Male  146856\n",
       "0   Prof          B   56       49    Male  186960\n",
       "9   Prof          A   51       51    Male   57800"
      ]
     },
     "execution_count": 117,
     "metadata": {},
     "output_type": "execute_result"
    }
   ],
   "source": [
    "df_sorted.tail(10) \n",
    "\n",
    "#จากแถวสุดท้าย"
   ]
  },
  {
   "cell_type": "code",
   "execution_count": 110,
   "id": "afb94292-e29a-4ecf-8d71-f18c468e7e18",
   "metadata": {},
   "outputs": [
    {
     "data": {
      "text/html": [
       "<div>\n",
       "<style scoped>\n",
       "    .dataframe tbody tr th:only-of-type {\n",
       "        vertical-align: middle;\n",
       "    }\n",
       "\n",
       "    .dataframe tbody tr th {\n",
       "        vertical-align: top;\n",
       "    }\n",
       "\n",
       "    .dataframe thead th {\n",
       "        text-align: right;\n",
       "    }\n",
       "</style>\n",
       "<table border=\"1\" class=\"dataframe\">\n",
       "  <thead>\n",
       "    <tr style=\"text-align: right;\">\n",
       "      <th></th>\n",
       "      <th>rank</th>\n",
       "      <th>discipline</th>\n",
       "      <th>phd</th>\n",
       "      <th>service</th>\n",
       "      <th>sex</th>\n",
       "      <th>salary</th>\n",
       "    </tr>\n",
       "  </thead>\n",
       "  <tbody>\n",
       "    <tr>\n",
       "      <th>9</th>\n",
       "      <td>Prof</td>\n",
       "      <td>A</td>\n",
       "      <td>51</td>\n",
       "      <td>51</td>\n",
       "      <td>Male</td>\n",
       "      <td>57800</td>\n",
       "    </tr>\n",
       "    <tr>\n",
       "      <th>0</th>\n",
       "      <td>Prof</td>\n",
       "      <td>B</td>\n",
       "      <td>56</td>\n",
       "      <td>49</td>\n",
       "      <td>Male</td>\n",
       "      <td>186960</td>\n",
       "    </tr>\n",
       "    <tr>\n",
       "      <th>36</th>\n",
       "      <td>Prof</td>\n",
       "      <td>B</td>\n",
       "      <td>45</td>\n",
       "      <td>45</td>\n",
       "      <td>Male</td>\n",
       "      <td>146856</td>\n",
       "    </tr>\n",
       "    <tr>\n",
       "      <th>27</th>\n",
       "      <td>Prof</td>\n",
       "      <td>A</td>\n",
       "      <td>45</td>\n",
       "      <td>43</td>\n",
       "      <td>Male</td>\n",
       "      <td>155865</td>\n",
       "    </tr>\n",
       "    <tr>\n",
       "      <th>40</th>\n",
       "      <td>Prof</td>\n",
       "      <td>A</td>\n",
       "      <td>39</td>\n",
       "      <td>36</td>\n",
       "      <td>Female</td>\n",
       "      <td>137000</td>\n",
       "    </tr>\n",
       "  </tbody>\n",
       "</table>\n",
       "</div>"
      ],
      "text/plain": [
       "    rank discipline  phd  service     sex  salary\n",
       "9   Prof          A   51       51    Male   57800\n",
       "0   Prof          B   56       49    Male  186960\n",
       "36  Prof          B   45       45    Male  146856\n",
       "27  Prof          A   45       43    Male  155865\n",
       "40  Prof          A   39       36  Female  137000"
      ]
     },
     "execution_count": 110,
     "metadata": {},
     "output_type": "execute_result"
    }
   ],
   "source": [
    "#Sort the data frame by yrs.service and overwrite the original dataset\n",
    "df.sort_values(by = 'service', ascending = False, inplace = True)\n",
    "df.head()\n",
    "\n",
    "#ascending = False เรียงจากมากไปน้อย"
   ]
  },
  {
   "cell_type": "code",
   "execution_count": 111,
   "id": "b2e32fdc-0d07-45f3-9b02-24b875b31008",
   "metadata": {},
   "outputs": [
    {
     "data": {
      "text/html": [
       "<div>\n",
       "<style scoped>\n",
       "    .dataframe tbody tr th:only-of-type {\n",
       "        vertical-align: middle;\n",
       "    }\n",
       "\n",
       "    .dataframe tbody tr th {\n",
       "        vertical-align: top;\n",
       "    }\n",
       "\n",
       "    .dataframe thead th {\n",
       "        text-align: right;\n",
       "    }\n",
       "</style>\n",
       "<table border=\"1\" class=\"dataframe\">\n",
       "  <thead>\n",
       "    <tr style=\"text-align: right;\">\n",
       "      <th></th>\n",
       "      <th>rank</th>\n",
       "      <th>discipline</th>\n",
       "      <th>phd</th>\n",
       "      <th>service</th>\n",
       "      <th>sex</th>\n",
       "      <th>salary</th>\n",
       "    </tr>\n",
       "  </thead>\n",
       "  <tbody>\n",
       "    <tr>\n",
       "      <th>0</th>\n",
       "      <td>Prof</td>\n",
       "      <td>B</td>\n",
       "      <td>56</td>\n",
       "      <td>49</td>\n",
       "      <td>Male</td>\n",
       "      <td>186960</td>\n",
       "    </tr>\n",
       "    <tr>\n",
       "      <th>1</th>\n",
       "      <td>Prof</td>\n",
       "      <td>A</td>\n",
       "      <td>12</td>\n",
       "      <td>6</td>\n",
       "      <td>Male</td>\n",
       "      <td>93000</td>\n",
       "    </tr>\n",
       "    <tr>\n",
       "      <th>2</th>\n",
       "      <td>Prof</td>\n",
       "      <td>A</td>\n",
       "      <td>23</td>\n",
       "      <td>20</td>\n",
       "      <td>Male</td>\n",
       "      <td>110515</td>\n",
       "    </tr>\n",
       "    <tr>\n",
       "      <th>3</th>\n",
       "      <td>Prof</td>\n",
       "      <td>A</td>\n",
       "      <td>40</td>\n",
       "      <td>31</td>\n",
       "      <td>Male</td>\n",
       "      <td>131205</td>\n",
       "    </tr>\n",
       "    <tr>\n",
       "      <th>4</th>\n",
       "      <td>Prof</td>\n",
       "      <td>B</td>\n",
       "      <td>20</td>\n",
       "      <td>18</td>\n",
       "      <td>Male</td>\n",
       "      <td>104800</td>\n",
       "    </tr>\n",
       "  </tbody>\n",
       "</table>\n",
       "</div>"
      ],
      "text/plain": [
       "   rank discipline  phd  service   sex  salary\n",
       "0  Prof          B   56       49  Male  186960\n",
       "1  Prof          A   12        6  Male   93000\n",
       "2  Prof          A   23       20  Male  110515\n",
       "3  Prof          A   40       31  Male  131205\n",
       "4  Prof          B   20       18  Male  104800"
      ]
     },
     "execution_count": 111,
     "metadata": {},
     "output_type": "execute_result"
    }
   ],
   "source": [
    "# Restore the original order (by sorting using index)\n",
    "df.sort_index(axis=0, ascending = True, inplace = True)\n",
    "df.head()\n",
    "\n",
    "#axis=0 index 0-N"
   ]
  },
  {
   "cell_type": "code",
   "execution_count": 70,
   "id": "fc51dfb7-b07f-4334-b7b3-c18896a12a04",
   "metadata": {},
   "outputs": [
    {
     "data": {
      "text/html": [
       "<div>\n",
       "<style scoped>\n",
       "    .dataframe tbody tr th:only-of-type {\n",
       "        vertical-align: middle;\n",
       "    }\n",
       "\n",
       "    .dataframe tbody tr th {\n",
       "        vertical-align: top;\n",
       "    }\n",
       "\n",
       "    .dataframe thead th {\n",
       "        text-align: right;\n",
       "    }\n",
       "</style>\n",
       "<table border=\"1\" class=\"dataframe\">\n",
       "  <thead>\n",
       "    <tr style=\"text-align: right;\">\n",
       "      <th></th>\n",
       "      <th>rank</th>\n",
       "      <th>discipline</th>\n",
       "      <th>phd</th>\n",
       "      <th>service</th>\n",
       "      <th>sex</th>\n",
       "      <th>salary</th>\n",
       "    </tr>\n",
       "  </thead>\n",
       "  <tbody>\n",
       "    <tr>\n",
       "      <th>0</th>\n",
       "      <td>Prof</td>\n",
       "      <td>B</td>\n",
       "      <td>56</td>\n",
       "      <td>49</td>\n",
       "      <td>Male</td>\n",
       "      <td>186960</td>\n",
       "    </tr>\n",
       "    <tr>\n",
       "      <th>13</th>\n",
       "      <td>Prof</td>\n",
       "      <td>B</td>\n",
       "      <td>35</td>\n",
       "      <td>33</td>\n",
       "      <td>Male</td>\n",
       "      <td>162200</td>\n",
       "    </tr>\n",
       "    <tr>\n",
       "      <th>72</th>\n",
       "      <td>Prof</td>\n",
       "      <td>B</td>\n",
       "      <td>24</td>\n",
       "      <td>15</td>\n",
       "      <td>Female</td>\n",
       "      <td>161101</td>\n",
       "    </tr>\n",
       "    <tr>\n",
       "      <th>27</th>\n",
       "      <td>Prof</td>\n",
       "      <td>A</td>\n",
       "      <td>45</td>\n",
       "      <td>43</td>\n",
       "      <td>Male</td>\n",
       "      <td>155865</td>\n",
       "    </tr>\n",
       "    <tr>\n",
       "      <th>31</th>\n",
       "      <td>Prof</td>\n",
       "      <td>B</td>\n",
       "      <td>22</td>\n",
       "      <td>21</td>\n",
       "      <td>Male</td>\n",
       "      <td>155750</td>\n",
       "    </tr>\n",
       "    <tr>\n",
       "      <th>14</th>\n",
       "      <td>Prof</td>\n",
       "      <td>B</td>\n",
       "      <td>25</td>\n",
       "      <td>19</td>\n",
       "      <td>Male</td>\n",
       "      <td>153750</td>\n",
       "    </tr>\n",
       "    <tr>\n",
       "      <th>44</th>\n",
       "      <td>Prof</td>\n",
       "      <td>B</td>\n",
       "      <td>23</td>\n",
       "      <td>19</td>\n",
       "      <td>Female</td>\n",
       "      <td>151768</td>\n",
       "    </tr>\n",
       "    <tr>\n",
       "      <th>19</th>\n",
       "      <td>Prof</td>\n",
       "      <td>A</td>\n",
       "      <td>29</td>\n",
       "      <td>27</td>\n",
       "      <td>Male</td>\n",
       "      <td>150500</td>\n",
       "    </tr>\n",
       "    <tr>\n",
       "      <th>15</th>\n",
       "      <td>Prof</td>\n",
       "      <td>B</td>\n",
       "      <td>17</td>\n",
       "      <td>3</td>\n",
       "      <td>Male</td>\n",
       "      <td>150480</td>\n",
       "    </tr>\n",
       "    <tr>\n",
       "      <th>26</th>\n",
       "      <td>Prof</td>\n",
       "      <td>A</td>\n",
       "      <td>38</td>\n",
       "      <td>19</td>\n",
       "      <td>Male</td>\n",
       "      <td>148750</td>\n",
       "    </tr>\n",
       "  </tbody>\n",
       "</table>\n",
       "</div>"
      ],
      "text/plain": [
       "    rank discipline  phd  service     sex  salary\n",
       "0   Prof          B   56       49    Male  186960\n",
       "13  Prof          B   35       33    Male  162200\n",
       "72  Prof          B   24       15  Female  161101\n",
       "27  Prof          A   45       43    Male  155865\n",
       "31  Prof          B   22       21    Male  155750\n",
       "14  Prof          B   25       19    Male  153750\n",
       "44  Prof          B   23       19  Female  151768\n",
       "19  Prof          A   29       27    Male  150500\n",
       "15  Prof          B   17        3    Male  150480\n",
       "26  Prof          A   38       19    Male  148750"
      ]
     },
     "execution_count": 70,
     "metadata": {},
     "output_type": "execute_result"
    }
   ],
   "source": [
    "# Sort data frame by the salary (in descending order) and display the first few records of the output (head)\n",
    "df.sort_values(by = \"salary\", ascending = False).head(10)"
   ]
  },
  {
   "cell_type": "code",
   "execution_count": 71,
   "id": "b99abf45-8e93-4956-8670-70c312a3dc01",
   "metadata": {},
   "outputs": [
    {
     "data": {
      "text/html": [
       "<div>\n",
       "<style scoped>\n",
       "    .dataframe tbody tr th:only-of-type {\n",
       "        vertical-align: middle;\n",
       "    }\n",
       "\n",
       "    .dataframe tbody tr th {\n",
       "        vertical-align: top;\n",
       "    }\n",
       "\n",
       "    .dataframe thead th {\n",
       "        text-align: right;\n",
       "    }\n",
       "</style>\n",
       "<table border=\"1\" class=\"dataframe\">\n",
       "  <thead>\n",
       "    <tr style=\"text-align: right;\">\n",
       "      <th></th>\n",
       "      <th>rank</th>\n",
       "      <th>discipline</th>\n",
       "      <th>phd</th>\n",
       "      <th>service</th>\n",
       "      <th>sex</th>\n",
       "      <th>salary</th>\n",
       "    </tr>\n",
       "  </thead>\n",
       "  <tbody>\n",
       "    <tr>\n",
       "      <th>52</th>\n",
       "      <td>Prof</td>\n",
       "      <td>A</td>\n",
       "      <td>12</td>\n",
       "      <td>0</td>\n",
       "      <td>Female</td>\n",
       "      <td>105000</td>\n",
       "    </tr>\n",
       "    <tr>\n",
       "      <th>17</th>\n",
       "      <td>AsstProf</td>\n",
       "      <td>B</td>\n",
       "      <td>4</td>\n",
       "      <td>0</td>\n",
       "      <td>Male</td>\n",
       "      <td>92000</td>\n",
       "    </tr>\n",
       "    <tr>\n",
       "      <th>12</th>\n",
       "      <td>AsstProf</td>\n",
       "      <td>B</td>\n",
       "      <td>1</td>\n",
       "      <td>0</td>\n",
       "      <td>Male</td>\n",
       "      <td>88000</td>\n",
       "    </tr>\n",
       "    <tr>\n",
       "      <th>23</th>\n",
       "      <td>AsstProf</td>\n",
       "      <td>A</td>\n",
       "      <td>2</td>\n",
       "      <td>0</td>\n",
       "      <td>Male</td>\n",
       "      <td>85000</td>\n",
       "    </tr>\n",
       "    <tr>\n",
       "      <th>43</th>\n",
       "      <td>AsstProf</td>\n",
       "      <td>B</td>\n",
       "      <td>5</td>\n",
       "      <td>0</td>\n",
       "      <td>Female</td>\n",
       "      <td>77000</td>\n",
       "    </tr>\n",
       "    <tr>\n",
       "      <th>55</th>\n",
       "      <td>AsstProf</td>\n",
       "      <td>A</td>\n",
       "      <td>2</td>\n",
       "      <td>0</td>\n",
       "      <td>Female</td>\n",
       "      <td>72500</td>\n",
       "    </tr>\n",
       "    <tr>\n",
       "      <th>57</th>\n",
       "      <td>AsstProf</td>\n",
       "      <td>A</td>\n",
       "      <td>3</td>\n",
       "      <td>1</td>\n",
       "      <td>Female</td>\n",
       "      <td>72500</td>\n",
       "    </tr>\n",
       "    <tr>\n",
       "      <th>28</th>\n",
       "      <td>AsstProf</td>\n",
       "      <td>B</td>\n",
       "      <td>7</td>\n",
       "      <td>2</td>\n",
       "      <td>Male</td>\n",
       "      <td>91300</td>\n",
       "    </tr>\n",
       "    <tr>\n",
       "      <th>42</th>\n",
       "      <td>AsstProf</td>\n",
       "      <td>B</td>\n",
       "      <td>4</td>\n",
       "      <td>2</td>\n",
       "      <td>Female</td>\n",
       "      <td>80225</td>\n",
       "    </tr>\n",
       "    <tr>\n",
       "      <th>68</th>\n",
       "      <td>AsstProf</td>\n",
       "      <td>A</td>\n",
       "      <td>4</td>\n",
       "      <td>2</td>\n",
       "      <td>Female</td>\n",
       "      <td>77500</td>\n",
       "    </tr>\n",
       "  </tbody>\n",
       "</table>\n",
       "</div>"
      ],
      "text/plain": [
       "        rank discipline  phd  service     sex  salary\n",
       "52      Prof          A   12        0  Female  105000\n",
       "17  AsstProf          B    4        0    Male   92000\n",
       "12  AsstProf          B    1        0    Male   88000\n",
       "23  AsstProf          A    2        0    Male   85000\n",
       "43  AsstProf          B    5        0  Female   77000\n",
       "55  AsstProf          A    2        0  Female   72500\n",
       "57  AsstProf          A    3        1  Female   72500\n",
       "28  AsstProf          B    7        2    Male   91300\n",
       "42  AsstProf          B    4        2  Female   80225\n",
       "68  AsstProf          A    4        2  Female   77500"
      ]
     },
     "execution_count": 71,
     "metadata": {},
     "output_type": "execute_result"
    }
   ],
   "source": [
    "#Sort the data frame using 2 or more columns:\n",
    "df_sorted = df.sort_values(by = ['service', 'salary'], ascending = [True,False])\n",
    "df_sorted.head(10)"
   ]
  },
  {
   "cell_type": "code",
   "execution_count": null,
   "id": "d8b9838d-7cfe-444b-a68c-8f6e126a71aa",
   "metadata": {},
   "outputs": [],
   "source": []
  },
  {
   "cell_type": "code",
   "execution_count": null,
   "id": "9c4abe8d-99df-4d6d-9e3e-70a81d6f847a",
   "metadata": {},
   "outputs": [],
   "source": []
  }
 ],
 "metadata": {
  "kernelspec": {
   "display_name": "Python 3 (ipykernel)",
   "language": "python",
   "name": "python3"
  },
  "language_info": {
   "codemirror_mode": {
    "name": "ipython",
    "version": 3
   },
   "file_extension": ".py",
   "mimetype": "text/x-python",
   "name": "python",
   "nbconvert_exporter": "python",
   "pygments_lexer": "ipython3",
   "version": "3.11.7"
  }
 },
 "nbformat": 4,
 "nbformat_minor": 5
}
