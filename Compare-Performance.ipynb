{
 "cells": [
  {
   "cell_type": "code",
   "execution_count": 1,
   "id": "105866c5-fedf-4baf-a421-737ee9d8ca60",
   "metadata": {},
   "outputs": [],
   "source": [
    "import pandas as pd\n",
    "import numpy as np"
   ]
  },
  {
   "cell_type": "code",
   "execution_count": 3,
   "id": "cabe6535-021b-4830-a28d-1fb1130146b5",
   "metadata": {},
   "outputs": [
    {
     "name": "stdout",
     "output_type": "stream",
     "text": [
      "     outlook temperature humidity   windy play\n",
      "0      sunny         hot     high    weak   no\n",
      "1      sunny         hot     high  strong   no\n",
      "2   overcast         hot     high    weak  yes\n",
      "3      rainy        mild     high    weak  yes\n",
      "4      rainy        cool   normal    weak  yes\n",
      "5      rainy        cool   normal  strong   no\n",
      "6   overcast        cool   normal  strong  yes\n",
      "7      sunny        mild     high    weak   no\n",
      "8      sunny        cool   normal    weak  yes\n",
      "9      rainy        mild   normal    weak  yes\n",
      "10     sunny        mild   normal  strong  yes\n",
      "11  overcast        mild     high  strong  yes\n",
      "12  overcast         hot   normal    weak  yes\n",
      "13     rainy        mild     high  strong   no\n"
     ]
    }
   ],
   "source": [
    "# สร้าง dataframe ชื่อ data ว่างๆ ขึ้นมาก่อน\n",
    "play_tennis  = pd.read_csv('play_tennis.csv')\n",
    "print(play_tennis)"
   ]
  },
  {
   "cell_type": "code",
   "execution_count": 4,
   "id": "ab08326d-0837-4dd5-88d6-1ae0e9825fb8",
   "metadata": {},
   "outputs": [
    {
     "name": "stdout",
     "output_type": "stream",
     "text": [
      "    outlook  temperature  humidity  windy play\n",
      "0         2            1         0      1   no\n",
      "1         2            1         0      0   no\n",
      "2         0            1         0      1  yes\n",
      "3         1            2         0      1  yes\n",
      "4         1            0         1      1  yes\n",
      "5         1            0         1      0   no\n",
      "6         0            0         1      0  yes\n",
      "7         2            2         0      1   no\n",
      "8         2            0         1      1  yes\n",
      "9         1            2         1      1  yes\n",
      "10        2            2         1      0  yes\n",
      "11        0            2         0      0  yes\n",
      "12        0            1         1      1  yes\n",
      "13        1            2         0      0   no\n"
     ]
    }
   ],
   "source": [
    "# encode temp and play columns.\n",
    "# Converting string labels into numbers\n",
    "\n",
    "# Import LabelEncoder\n",
    "from sklearn import preprocessing\n",
    "\n",
    "#creating labelEncoder\n",
    "number = preprocessing.LabelEncoder()\n",
    "\n",
    "play_tennis['outlook'] = number.fit_transform(play_tennis['outlook'])\n",
    "play_tennis['temperature'] = number.fit_transform(play_tennis['temperature'])\n",
    "play_tennis['humidity'] = number.fit_transform(play_tennis['humidity'])\n",
    "play_tennis['windy'] = number.fit_transform(play_tennis['windy'])\n",
    "#play_tennis['play'] = number.fit_transform(play_tennis['play'])\n",
    "\n",
    "print(play_tennis)"
   ]
  },
  {
   "cell_type": "markdown",
   "id": "a7ee3e06-dbbf-44a5-aab8-eb92f1f8ffea",
   "metadata": {},
   "source": [
    "sklearn library, which can be found in sklearn.naive_bayes:\n",
    "\n",
    "sklearn.naive_bayes.CategoricalNB: for using Naive Bayes on categorical predictor variables.\n",
    "\n",
    "sklearn.naive_bayes.GaussianNB: for Naive Bayes on numerical predictor variables, with the assumption that these variables follow Gaussian distribution.\n",
    "\n",
    "sklearn.naive_bayes.MultinomialNB: the predictor variables represent the counts, a popular application is in text classification. Fractional counts like tf-idf may also work.\n",
    "\n",
    "sklearn.naive_bayes.ComplementNB: A modification of MultinomialNB which is suitable for imbalanced datasets.\n",
    "\n",
    "sklearn.naive_bayes.BernoulliNB: assumes the data follows Bernoulli distribution (i.e. possible values of predictor variables are 0 and 1)."
   ]
  },
  {
   "cell_type": "code",
   "execution_count": 6,
   "id": "812bf84f-dfcf-406c-a7f3-e5c321bf3b67",
   "metadata": {},
   "outputs": [],
   "source": [
    "#Import Library of Naive Bayes\n",
    "from sklearn.naive_bayes import GaussianNB, BernoulliNB, MultinomialNB, CategoricalNB\n",
    "\n",
    "Gaussian_NB = GaussianNB()\n",
    "Bernoulli_NB = BernoulliNB()\n",
    "Multinomial_NB = MultinomialNB()\n",
    "Categorical_NB = CategoricalNB()"
   ]
  },
  {
   "cell_type": "code",
   "execution_count": 15,
   "id": "1e5cc387-18c7-48ba-aed0-27e768d706e0",
   "metadata": {},
   "outputs": [
    {
     "name": "stdout",
     "output_type": "stream",
     "text": [
      "9 5 9 5\n"
     ]
    }
   ],
   "source": [
    "# Import train_test_split function\n",
    "\n",
    "from sklearn.model_selection import train_test_split\n",
    "\n",
    "X = play_tennis[['outlook','temperature', 'humidity','windy']]\n",
    "Y = play_tennis['play']\n",
    "\n",
    "# 70% training and 30% test\n",
    "# แบ่งข้อมูลที่ใช้สำหรับการสอน training set 70% \n",
    "# ข้อมูลที่ใช้สำหรับการทดสอบ test set 30%\n",
    "# random_stat คือ ค่า seed ที่กำหนดการ random กลุ่มข้อมูล เป็นเลขจำนวนเต็ม \n",
    "# เช่น random_state = 5 หมายถึงกำหนดเลขสุมขึ้นมาเพื่อให้ข้อมูล training และ test set มีสมาชิกตัวเดิม\n",
    "\n",
    "X_train, X_test, y_train, y_test = train_test_split(X,Y,test_size=0.3,random_state=5)\n",
    "\n",
    "print(len(X_train),len(X_test),len(y_train),len(y_test))\n",
    "#print(X_train, X_test, y_train, y_test)"
   ]
  },
  {
   "cell_type": "code",
   "execution_count": 21,
   "id": "85019b68-1ff6-4a8a-9072-19499a1433e2",
   "metadata": {},
   "outputs": [
    {
     "name": "stdout",
     "output_type": "stream",
     "text": [
      "Bernoulli Traing Score 0.8888888888888888\n",
      "Bernoulli Test Score 0.6\n",
      "Multinomial_NB Traing Score 0.7777777777777778\n",
      "Multinomial_NB Test Score 0.4\n",
      "Gaussian_NB Traing Score 0.7777777777777778\n",
      "Gaussian_NB Test Score 0.6\n",
      "Categorical_NB Traing Score 0.8888888888888888\n",
      "Categorical_NB Test Score 0.6\n"
     ]
    }
   ],
   "source": [
    "#Train the model using the training sets\n",
    "Gaussian_NB.fit(X_train,y_train)\n",
    "Bernoulli_NB.fit(X_train,y_train)\n",
    "Multinomial_NB.fit(X_train,y_train)\n",
    "Categorical_NB.fit(X_train,y_train)\n",
    "\n",
    "\n",
    "#Predict the response for test dataset\n",
    "Y_Predict_GNB = Gaussian_NB.predict(X_test)\n",
    "Y_Predict_BNB = Bernoulli_NB.predict(X_test)\n",
    "Y_Predict_MNB = Multinomial_NB.predict(X_test)\n",
    "Y_Predict_CNB = Categorical_NB.predict(X_test)\n",
    "\n",
    "print(\"Bernoulli Traing Score\", Bernoulli_NB.score(X_train,y_train))\n",
    "print(\"Bernoulli Test Score\", Bernoulli_NB.score(X_test,y_test))\n",
    "\n",
    "print(\"Multinomial_NB Traing Score\", Multinomial_NB.score(X_train,y_train))\n",
    "print(\"Multinomial_NB Test Score\", Multinomial_NB.score(X_test,y_test))\n",
    "\n",
    "print(\"Gaussian_NB Traing Score\", Gaussian_NB.score(X_train,y_train))\n",
    "print(\"Gaussian_NB Test Score\", Gaussian_NB.score(X_test,y_test))\n",
    "\n",
    "print(\"Categorical_NB Traing Score\", Categorical_NB.score(X_train,y_train))\n",
    "print(\"Categorical_NB Test Score\", Categorical_NB.score(X_test,y_test))"
   ]
  },
  {
   "cell_type": "code",
   "execution_count": 22,
   "id": "029b9674-8360-4c11-9b5b-b719e2c6a376",
   "metadata": {},
   "outputs": [
    {
     "name": "stdout",
     "output_type": "stream",
     "text": [
      "Gaussian Accuracy: 0.6\n",
      "Bernoulli Accuracy: 0.6\n",
      "Multinomial Accuracy: 0.4\n",
      "Categorical Accuracy: 0.6\n"
     ]
    }
   ],
   "source": [
    "#Evaluating Model\n",
    "\n",
    "from sklearn import metrics\n",
    "\n",
    "# Model Accuracy, how often is the classifier correct?\n",
    "print(\"Gaussian Accuracy:\",metrics.accuracy_score(y_test, Y_Predict_GNB))\n",
    "print(\"Bernoulli Accuracy:\",metrics.accuracy_score(y_test, Y_Predict_BNB))\n",
    "print(\"Multinomial Accuracy:\",metrics.accuracy_score(y_test, Y_Predict_MNB))\n",
    "print(\"Categorical Accuracy:\",metrics.accuracy_score(y_test,Y_Predict_CNB))"
   ]
  },
  {
   "cell_type": "code",
   "execution_count": 23,
   "id": "b83fe960-6b9c-4521-b2c0-bbe5c5617652",
   "metadata": {},
   "outputs": [
    {
     "name": "stdout",
     "output_type": "stream",
     "text": [
      "KNN Accuracy: 0.4\n"
     ]
    }
   ],
   "source": [
    "#Import Library of K-Nearest Neighbor model\n",
    "from sklearn.neighbors import KNeighborsClassifier\n",
    "\n",
    "#Create a KNN Classifier\n",
    "KNN_model = KNeighborsClassifier(n_neighbors=3)\n",
    "KNN_model.fit(X_train,y_train)\n",
    "\n",
    "Y_Predict_KNN = KNN_model.predict(X_test)\n",
    "print(\"KNN Accuracy:\",metrics.accuracy_score(y_test, Y_Predict_KNN))"
   ]
  },
  {
   "cell_type": "code",
   "execution_count": 24,
   "id": "6bf396d8-0f63-4d12-9f50-24217295414c",
   "metadata": {},
   "outputs": [
    {
     "name": "stdout",
     "output_type": "stream",
     "text": [
      "Predicted Value: ['yes' 'yes']\n"
     ]
    },
    {
     "name": "stderr",
     "output_type": "stream",
     "text": [
      "C:\\Users\\Guest-Student\\anaconda3\\Lib\\site-packages\\sklearn\\base.py:493: UserWarning: X does not have valid feature names, but BernoulliNB was fitted with feature names\n",
      "  warnings.warn(\n"
     ]
    }
   ],
   "source": [
    "#Predict new data ใช้ Bernoulli NB\n",
    "\n",
    "predicted= Bernoulli_NB.predict([[1,1,0,1],[2,2,1,0] ]) # 1:rain, 1:hot, 0:high, 1:weak\n",
    "print(\"Predicted Value:\", predicted)"
   ]
  },
  {
   "cell_type": "code",
   "execution_count": 25,
   "id": "bb84c4a0-e7a2-4ff1-9f2d-7badf7a8aa20",
   "metadata": {},
   "outputs": [
    {
     "name": "stdout",
     "output_type": "stream",
     "text": [
      "Predicted Value: ['yes' 'no' 'yes']\n"
     ]
    },
    {
     "name": "stderr",
     "output_type": "stream",
     "text": [
      "C:\\Users\\Guest-Student\\anaconda3\\Lib\\site-packages\\sklearn\\base.py:493: UserWarning: X does not have valid feature names, but BernoulliNB was fitted with feature names\n",
      "  warnings.warn(\n"
     ]
    }
   ],
   "source": [
    "#Predict new data ใช้ Bernoulli NB\n",
    "\n",
    "predicted= Bernoulli_NB.predict([[0,0,0,1],[1,1,0,0],[2,2,0,1] ]) # 1:rain, 1:hot, 0:high, 1:weak\n",
    "print(\"Predicted Value:\", predicted)"
   ]
  },
  {
   "cell_type": "code",
   "execution_count": null,
   "id": "28d7360c-b93a-4a2e-a50f-4e75c1156278",
   "metadata": {},
   "outputs": [],
   "source": []
  },
  {
   "cell_type": "markdown",
   "id": "39b887ff-96cd-4c68-a658-a5edc3f323e6",
   "metadata": {},
   "source": [
    "### 1.ให้นักศึกษาเปรียบเทียบ Model ทุก model ของ NB และ KNN โดย K = 3 โดยใช้\n",
    "\n",
    "training set 80% test set 20%\n",
    "\n",
    "training set 60% test set 40%"
   ]
  },
  {
   "cell_type": "markdown",
   "id": "fc08e4e6-c027-4fb2-9cff-82bc690c86aa",
   "metadata": {},
   "source": [
    "## training set 80% test set 20%"
   ]
  },
  {
   "cell_type": "code",
   "execution_count": 36,
   "id": "456d784d-6d12-497a-b985-730cdfd72e33",
   "metadata": {},
   "outputs": [],
   "source": [
    "#Import Library of Naive Bayes\n",
    "from sklearn.naive_bayes import GaussianNB, BernoulliNB, MultinomialNB, CategoricalNB\n",
    "\n",
    "Gaussian_NB = GaussianNB()\n",
    "Bernoulli_NB = BernoulliNB()\n",
    "Multinomial_NB = MultinomialNB()\n",
    "Categorical_NB = CategoricalNB()"
   ]
  },
  {
   "cell_type": "code",
   "execution_count": 45,
   "id": "b8ddb6a3-0d64-42a9-826c-25730055c6d8",
   "metadata": {},
   "outputs": [
    {
     "name": "stdout",
     "output_type": "stream",
     "text": [
      "11 3 11 3\n"
     ]
    }
   ],
   "source": [
    "# Import train_test_split function\n",
    "# training set 80% test set 20%\n",
    "\n",
    "from sklearn.model_selection import train_test_split\n",
    "\n",
    "X = play_tennis[['outlook','temperature', 'humidity','windy']]\n",
    "Y = play_tennis['play']\n",
    "\n",
    "X_train, X_test, y_train, y_test = train_test_split(X,Y,test_size=0.2,random_state=5)\n",
    "\n",
    "print(len(X_train),len(X_test),len(y_train),len(y_test))"
   ]
  },
  {
   "cell_type": "code",
   "execution_count": 46,
   "id": "7b5a5470-9f63-4fc6-8fd9-d36a135f5c64",
   "metadata": {},
   "outputs": [
    {
     "name": "stdout",
     "output_type": "stream",
     "text": [
      "Bernoulli Traing Score 0.9090909090909091\n",
      "Bernoulli Test Score 0.3333333333333333\n",
      "Multinomial_NB Traing Score 0.8181818181818182\n",
      "Multinomial_NB Test Score 0.0\n",
      "Gaussian_NB Traing Score 0.7272727272727273\n",
      "Gaussian_NB Test Score 0.6666666666666666\n",
      "Categorical_NB Traing Score 0.8181818181818182\n",
      "Categorical_NB Test Score 0.3333333333333333\n"
     ]
    }
   ],
   "source": [
    "#Train the model using the training sets\n",
    "Gaussian_NB.fit(X_train,y_train)\n",
    "Bernoulli_NB.fit(X_train,y_train)\n",
    "Multinomial_NB.fit(X_train,y_train)\n",
    "Categorical_NB.fit(X_train,y_train)\n",
    "\n",
    "\n",
    "#Predict the response for test dataset\n",
    "Y_Predict_GNB = Gaussian_NB.predict(X_test)\n",
    "Y_Predict_BNB = Bernoulli_NB.predict(X_test)\n",
    "Y_Predict_MNB = Multinomial_NB.predict(X_test)\n",
    "Y_Predict_CNB = Categorical_NB.predict(X_test)\n",
    "\n",
    "print(\"Bernoulli Traing Score\", Bernoulli_NB.score(X_train,y_train))\n",
    "print(\"Bernoulli Test Score\", Bernoulli_NB.score(X_test,y_test))\n",
    "\n",
    "print(\"Multinomial_NB Traing Score\", Multinomial_NB.score(X_train,y_train))\n",
    "print(\"Multinomial_NB Test Score\", Multinomial_NB.score(X_test,y_test))\n",
    "\n",
    "print(\"Gaussian_NB Traing Score\", Gaussian_NB.score(X_train,y_train))\n",
    "print(\"Gaussian_NB Test Score\", Gaussian_NB.score(X_test,y_test))\n",
    "\n",
    "print(\"Categorical_NB Traing Score\", Categorical_NB.score(X_train,y_train))\n",
    "print(\"Categorical_NB Test Score\", Categorical_NB.score(X_test,y_test))"
   ]
  },
  {
   "cell_type": "code",
   "execution_count": 47,
   "id": "88785dd3-c724-462b-9c12-6c634f67e394",
   "metadata": {},
   "outputs": [
    {
     "name": "stdout",
     "output_type": "stream",
     "text": [
      "Gaussian Accuracy: 0.6666666666666666\n",
      "Bernoulli Accuracy: 0.3333333333333333\n",
      "Multinomial Accuracy: 0.0\n",
      "Categorical Accuracy: 0.3333333333333333\n"
     ]
    }
   ],
   "source": [
    "#Evaluating Model\n",
    "\n",
    "from sklearn import metrics\n",
    "\n",
    "# Model Accuracy, how often is the classifier correct?\n",
    "print(\"Gaussian Accuracy:\",metrics.accuracy_score(y_test, Y_Predict_GNB))\n",
    "print(\"Bernoulli Accuracy:\",metrics.accuracy_score(y_test, Y_Predict_BNB))\n",
    "print(\"Multinomial Accuracy:\",metrics.accuracy_score(y_test, Y_Predict_MNB))\n",
    "print(\"Categorical Accuracy:\",metrics.accuracy_score(y_test,Y_Predict_CNB))"
   ]
  },
  {
   "cell_type": "code",
   "execution_count": 48,
   "id": "67afb995-cc37-47c6-a502-1ddb4dc5c5d4",
   "metadata": {},
   "outputs": [
    {
     "name": "stdout",
     "output_type": "stream",
     "text": [
      "KNN Accuracy: 0.3333333333333333\n"
     ]
    }
   ],
   "source": [
    "#Import Library of K-Nearest Neighbor model\n",
    "from sklearn.neighbors import KNeighborsClassifier\n",
    "\n",
    "#Create a KNN Classifier\n",
    "KNN_model = KNeighborsClassifier(n_neighbors=3)\n",
    "KNN_model.fit(X_train,y_train)\n",
    "\n",
    "Y_Predict_KNN = KNN_model.predict(X_test)\n",
    "print(\"KNN Accuracy:\",metrics.accuracy_score(y_test, Y_Predict_KNN))"
   ]
  },
  {
   "cell_type": "markdown",
   "id": "9e252d99-f69f-4660-92fd-405803abbcb4",
   "metadata": {},
   "source": [
    "## training set 60% test set 40%"
   ]
  },
  {
   "cell_type": "code",
   "execution_count": 49,
   "id": "7896f09a-4452-4c71-9195-e4cce7b0d77f",
   "metadata": {},
   "outputs": [
    {
     "name": "stdout",
     "output_type": "stream",
     "text": [
      "8 6 8 6\n"
     ]
    }
   ],
   "source": [
    "# Import train_test_split function\n",
    "# training set 60% test set 40%\n",
    "\n",
    "from sklearn.model_selection import train_test_split\n",
    "\n",
    "X = play_tennis[['outlook','temperature', 'humidity','windy']]\n",
    "Y = play_tennis['play']\n",
    "\n",
    "X_train, X_test, y_train, y_test = train_test_split(X,Y,test_size=0.4,random_state=5)\n",
    "\n",
    "print(len(X_train),len(X_test),len(y_train),len(y_test))"
   ]
  },
  {
   "cell_type": "code",
   "execution_count": 50,
   "id": "42e8dc74-0700-43e9-988e-41168e219cf1",
   "metadata": {},
   "outputs": [
    {
     "name": "stdout",
     "output_type": "stream",
     "text": [
      "Bernoulli Traing Score 0.875\n",
      "Bernoulli Test Score 0.3333333333333333\n",
      "Multinomial_NB Traing Score 0.875\n",
      "Multinomial_NB Test Score 0.3333333333333333\n",
      "Gaussian_NB Traing Score 1.0\n",
      "Gaussian_NB Test Score 0.3333333333333333\n",
      "Categorical_NB Traing Score 1.0\n",
      "Categorical_NB Test Score 0.5\n"
     ]
    }
   ],
   "source": [
    "#Train the model using the training sets\n",
    "Gaussian_NB.fit(X_train,y_train)\n",
    "Bernoulli_NB.fit(X_train,y_train)\n",
    "Multinomial_NB.fit(X_train,y_train)\n",
    "Categorical_NB.fit(X_train,y_train)\n",
    "\n",
    "\n",
    "#Predict the response for test dataset\n",
    "Y_Predict_GNB = Gaussian_NB.predict(X_test)\n",
    "Y_Predict_BNB = Bernoulli_NB.predict(X_test)\n",
    "Y_Predict_MNB = Multinomial_NB.predict(X_test)\n",
    "Y_Predict_CNB = Categorical_NB.predict(X_test)\n",
    "\n",
    "print(\"Bernoulli Traing Score\", Bernoulli_NB.score(X_train,y_train))\n",
    "print(\"Bernoulli Test Score\", Bernoulli_NB.score(X_test,y_test))\n",
    "\n",
    "print(\"Multinomial_NB Traing Score\", Multinomial_NB.score(X_train,y_train))\n",
    "print(\"Multinomial_NB Test Score\", Multinomial_NB.score(X_test,y_test))\n",
    "\n",
    "print(\"Gaussian_NB Traing Score\", Gaussian_NB.score(X_train,y_train))\n",
    "print(\"Gaussian_NB Test Score\", Gaussian_NB.score(X_test,y_test))\n",
    "\n",
    "print(\"Categorical_NB Traing Score\", Categorical_NB.score(X_train,y_train))\n",
    "print(\"Categorical_NB Test Score\", Categorical_NB.score(X_test,y_test))"
   ]
  },
  {
   "cell_type": "code",
   "execution_count": 51,
   "id": "cc960d69-9f05-485f-b5f9-e3ed2f50e0ba",
   "metadata": {},
   "outputs": [
    {
     "name": "stdout",
     "output_type": "stream",
     "text": [
      "Gaussian Accuracy: 0.3333333333333333\n",
      "Bernoulli Accuracy: 0.3333333333333333\n",
      "Multinomial Accuracy: 0.3333333333333333\n",
      "Categorical Accuracy: 0.5\n"
     ]
    }
   ],
   "source": [
    "#Evaluating Model\n",
    "\n",
    "from sklearn import metrics\n",
    "\n",
    "# Model Accuracy, how often is the classifier correct?\n",
    "print(\"Gaussian Accuracy:\",metrics.accuracy_score(y_test, Y_Predict_GNB))\n",
    "print(\"Bernoulli Accuracy:\",metrics.accuracy_score(y_test, Y_Predict_BNB))\n",
    "print(\"Multinomial Accuracy:\",metrics.accuracy_score(y_test, Y_Predict_MNB))\n",
    "print(\"Categorical Accuracy:\",metrics.accuracy_score(y_test,Y_Predict_CNB))"
   ]
  },
  {
   "cell_type": "code",
   "execution_count": 52,
   "id": "fc0019dd-6d35-49f6-a992-312810205434",
   "metadata": {},
   "outputs": [
    {
     "name": "stdout",
     "output_type": "stream",
     "text": [
      "KNN Accuracy: 0.3333333333333333\n"
     ]
    }
   ],
   "source": [
    "#Import Library of K-Nearest Neighbor model\n",
    "from sklearn.neighbors import KNeighborsClassifier\n",
    "\n",
    "#Create a KNN Classifier\n",
    "KNN_model = KNeighborsClassifier(n_neighbors=3)\n",
    "KNN_model.fit(X_train,y_train)\n",
    "\n",
    "Y_Predict_KNN = KNN_model.predict(X_test)\n",
    "print(\"KNN Accuracy:\",metrics.accuracy_score(y_test, Y_Predict_KNN))"
   ]
  },
  {
   "cell_type": "markdown",
   "id": "7e1cb884-d03e-4b7a-82e0-672b4d8bfcd7",
   "metadata": {},
   "source": [
    "### 2.ให้นำ model ที่ดีที่สุดที่ได้จากข้อ 1 มาใช้กับชุดข้อมูล new data เพื่อ classify ว่า ชุดข้อมูลใหม่ จะเล่น tennis หรือไม่เล่น tennis ข้อมูล new data is ประกอบไปด้วย"
   ]
  },
  {
   "cell_type": "code",
   "execution_count": 74,
   "id": "1b3736f3-2056-4177-a8a2-53d4615f053c",
   "metadata": {},
   "outputs": [
    {
     "name": "stdout",
     "output_type": "stream",
     "text": [
      "11 3 11 3\n"
     ]
    }
   ],
   "source": [
    "# Import train_test_split function\n",
    "# training set 80% test set 20%\n",
    "\n",
    "from sklearn.model_selection import train_test_split\n",
    "\n",
    "X = play_tennis[['outlook','temperature', 'humidity','windy']]\n",
    "Y = play_tennis['play']\n",
    "\n",
    "X_train, X_test, y_train, y_test = train_test_split(X,Y,test_size=0.2,random_state=5)\n",
    "\n",
    "print(len(X_train),len(X_test),len(y_train),len(y_test))"
   ]
  },
  {
   "cell_type": "code",
   "execution_count": 75,
   "id": "37b0f4b0-d35f-46a8-bc33-00309f3eaa5e",
   "metadata": {},
   "outputs": [
    {
     "name": "stdout",
     "output_type": "stream",
     "text": [
      "Bernoulli Traing Score 0.9090909090909091\n",
      "Bernoulli Test Score 0.3333333333333333\n",
      "Multinomial_NB Traing Score 0.8181818181818182\n",
      "Multinomial_NB Test Score 0.0\n",
      "Gaussian_NB Traing Score 0.7272727272727273\n",
      "Gaussian_NB Test Score 0.6666666666666666\n",
      "Categorical_NB Traing Score 0.8181818181818182\n",
      "Categorical_NB Test Score 0.3333333333333333\n"
     ]
    }
   ],
   "source": [
    "#Train the model using the training sets\n",
    "Gaussian_NB.fit(X_train,y_train)\n",
    "Bernoulli_NB.fit(X_train,y_train)\n",
    "Multinomial_NB.fit(X_train,y_train)\n",
    "Categorical_NB.fit(X_train,y_train)\n",
    "\n",
    "\n",
    "#Predict the response for test dataset\n",
    "Y_Predict_GNB = Gaussian_NB.predict(X_test)\n",
    "Y_Predict_BNB = Bernoulli_NB.predict(X_test)\n",
    "Y_Predict_MNB = Multinomial_NB.predict(X_test)\n",
    "Y_Predict_CNB = Categorical_NB.predict(X_test)\n",
    "\n",
    "print(\"Bernoulli Traing Score\", Bernoulli_NB.score(X_train,y_train))\n",
    "print(\"Bernoulli Test Score\", Bernoulli_NB.score(X_test,y_test))\n",
    "\n",
    "print(\"Multinomial_NB Traing Score\", Multinomial_NB.score(X_train,y_train))\n",
    "print(\"Multinomial_NB Test Score\", Multinomial_NB.score(X_test,y_test))\n",
    "\n",
    "print(\"Gaussian_NB Traing Score\", Gaussian_NB.score(X_train,y_train))\n",
    "print(\"Gaussian_NB Test Score\", Gaussian_NB.score(X_test,y_test))\n",
    "\n",
    "print(\"Categorical_NB Traing Score\", Categorical_NB.score(X_train,y_train))\n",
    "print(\"Categorical_NB Test Score\", Categorical_NB.score(X_test,y_test))"
   ]
  },
  {
   "cell_type": "code",
   "execution_count": 76,
   "id": "6ea9db0a-7ebc-4011-9706-3aa8d1e39e6f",
   "metadata": {},
   "outputs": [
    {
     "name": "stdout",
     "output_type": "stream",
     "text": [
      "Gaussian Accuracy: 0.6666666666666666\n",
      "Bernoulli Accuracy: 0.3333333333333333\n",
      "Multinomial Accuracy: 0.0\n",
      "Categorical Accuracy: 0.3333333333333333\n"
     ]
    }
   ],
   "source": [
    "#Evaluating Model\n",
    "\n",
    "from sklearn import metrics\n",
    "\n",
    "# Model Accuracy, how often is the classifier correct?\n",
    "print(\"Gaussian Accuracy:\",metrics.accuracy_score(y_test, Y_Predict_GNB))\n",
    "print(\"Bernoulli Accuracy:\",metrics.accuracy_score(y_test, Y_Predict_BNB))\n",
    "print(\"Multinomial Accuracy:\",metrics.accuracy_score(y_test, Y_Predict_MNB))\n",
    "print(\"Categorical Accuracy:\",metrics.accuracy_score(y_test,Y_Predict_CNB))"
   ]
  },
  {
   "cell_type": "code",
   "execution_count": 78,
   "id": "63b6a857-5792-4da1-bc41-2d353b694b6b",
   "metadata": {},
   "outputs": [
    {
     "data": {
      "text/html": [
       "<div>\n",
       "<style scoped>\n",
       "    .dataframe tbody tr th:only-of-type {\n",
       "        vertical-align: middle;\n",
       "    }\n",
       "\n",
       "    .dataframe tbody tr th {\n",
       "        vertical-align: top;\n",
       "    }\n",
       "\n",
       "    .dataframe thead th {\n",
       "        text-align: right;\n",
       "    }\n",
       "</style>\n",
       "<table border=\"1\" class=\"dataframe\">\n",
       "  <thead>\n",
       "    <tr style=\"text-align: right;\">\n",
       "      <th></th>\n",
       "      <th>outlook</th>\n",
       "      <th>temperature</th>\n",
       "      <th>humidity</th>\n",
       "      <th>windy</th>\n",
       "    </tr>\n",
       "  </thead>\n",
       "  <tbody>\n",
       "    <tr>\n",
       "      <th>0</th>\n",
       "      <td>sunny</td>\n",
       "      <td>hot</td>\n",
       "      <td>high</td>\n",
       "      <td>strong</td>\n",
       "    </tr>\n",
       "    <tr>\n",
       "      <th>1</th>\n",
       "      <td>overcast</td>\n",
       "      <td>hot</td>\n",
       "      <td>normal</td>\n",
       "      <td>weak</td>\n",
       "    </tr>\n",
       "    <tr>\n",
       "      <th>2</th>\n",
       "      <td>rainy</td>\n",
       "      <td>cool</td>\n",
       "      <td>normal</td>\n",
       "      <td>strong</td>\n",
       "    </tr>\n",
       "    <tr>\n",
       "      <th>3</th>\n",
       "      <td>sunny</td>\n",
       "      <td>mild</td>\n",
       "      <td>high</td>\n",
       "      <td>strong</td>\n",
       "    </tr>\n",
       "    <tr>\n",
       "      <th>4</th>\n",
       "      <td>rainy</td>\n",
       "      <td>mild</td>\n",
       "      <td>normal</td>\n",
       "      <td>weak</td>\n",
       "    </tr>\n",
       "  </tbody>\n",
       "</table>\n",
       "</div>"
      ],
      "text/plain": [
       "    outlook temperature humidity   windy\n",
       "0     sunny         hot     high  strong\n",
       "1  overcast         hot   normal    weak\n",
       "2     rainy        cool   normal  strong\n",
       "3     sunny        mild     high  strong\n",
       "4     rainy        mild   normal    weak"
      ]
     },
     "execution_count": 78,
     "metadata": {},
     "output_type": "execute_result"
    }
   ],
   "source": [
    "# สร้าง dataframe ชื่อ new_data ว่างๆ ขึ้นมาก่อน\n",
    "new_data = pd.DataFrame()\n",
    "\n",
    "# สร้างข้อมูลที่เป็น new data \n",
    "new_data['outlook'] = ['sunny','overcast','rainy','sunny','rainy']\n",
    "new_data['temperature'] = ['hot','hot','cool','mild','mild']\n",
    "new_data['humidity'] = ['high','normal','normal','high','normal']\n",
    "new_data['windy'] = ['strong','weak','strong','strong','weak']\n",
    "\n",
    "# View the data \n",
    "new_data"
   ]
  },
  {
   "cell_type": "code",
   "execution_count": 79,
   "id": "bd29e965-7fe8-4286-b3aa-a7eb6585801d",
   "metadata": {},
   "outputs": [
    {
     "name": "stdout",
     "output_type": "stream",
     "text": [
      "   outlook  temperature  humidity  windy\n",
      "0        2            1         0      0\n",
      "1        0            1         1      1\n",
      "2        1            0         1      0\n",
      "3        2            2         0      0\n",
      "4        1            2         1      1\n"
     ]
    }
   ],
   "source": [
    "new_data['outlook'] = number.fit_transform(new_data['outlook'])\n",
    "new_data['temperature'] = number.fit_transform(new_data['temperature'])\n",
    "new_data['humidity'] = number.fit_transform(new_data['humidity'])\n",
    "new_data['windy'] = number.fit_transform(new_data['windy'])\n",
    "print(new_data)"
   ]
  },
  {
   "cell_type": "code",
   "execution_count": 80,
   "id": "e5ec2bc8-34b5-470a-afe2-35cdf13551cc",
   "metadata": {},
   "outputs": [
    {
     "name": "stdout",
     "output_type": "stream",
     "text": [
      "Predicted Value: ['no' 'yes' 'yes' 'no' 'yes']\n"
     ]
    },
    {
     "name": "stderr",
     "output_type": "stream",
     "text": [
      "C:\\Users\\Guest-Student\\anaconda3\\Lib\\site-packages\\sklearn\\base.py:493: UserWarning: X does not have valid feature names, but GaussianNB was fitted with feature names\n",
      "  warnings.warn(\n"
     ]
    }
   ],
   "source": [
    "#Predict new data ใช้ Bernoulli NB\n",
    "\n",
    "predicted= Gaussian_NB.predict([[2,1,0,0],[0,1,1,1],[1,0,1,0],[2,2,0,0],[1,2,1,1]])\n",
    "print(\"Predicted Value:\", predicted)"
   ]
  },
  {
   "cell_type": "markdown",
   "id": "6f654876-592f-40d0-9021-6b3c442c4365",
   "metadata": {},
   "source": [
    "## เล่น tennis "
   ]
  },
  {
   "cell_type": "code",
   "execution_count": null,
   "id": "84fba361-9e03-4681-a76a-ff7d9471f9cc",
   "metadata": {},
   "outputs": [],
   "source": []
  }
 ],
 "metadata": {
  "kernelspec": {
   "display_name": "Python 3 (ipykernel)",
   "language": "python",
   "name": "python3"
  },
  "language_info": {
   "codemirror_mode": {
    "name": "ipython",
    "version": 3
   },
   "file_extension": ".py",
   "mimetype": "text/x-python",
   "name": "python",
   "nbconvert_exporter": "python",
   "pygments_lexer": "ipython3",
   "version": "3.11.7"
  }
 },
 "nbformat": 4,
 "nbformat_minor": 5
}
