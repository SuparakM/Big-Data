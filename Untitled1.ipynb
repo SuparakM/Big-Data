{
 "cells": [
  {
   "cell_type": "markdown",
   "id": "b4d5de46-4507-46e2-86fe-4810ba3480bb",
   "metadata": {},
   "source": [
    "# This is a test"
   ]
  },
  {
   "cell_type": "markdown",
   "id": "a1a94260-591b-4795-ab77-89f3746365dc",
   "metadata": {},
   "source": [
    "print function example"
   ]
  },
  {
   "cell_type": "markdown",
   "id": "75e5d1c5-327b-421e-b880-cfca602a0a09",
   "metadata": {},
   "source": [
    "#Print Function #function(parameter) print(\"Hello there\")"
   ]
  },
  {
   "cell_type": "code",
   "execution_count": null,
   "id": "56827faa-df86-4a3f-8732-5ff786a65f58",
   "metadata": {},
   "outputs": [],
   "source": [
    "#Print Function \n",
    "#function(parameter) \n",
    "print(\"Hello there\")"
   ]
  },
  {
   "cell_type": "code",
   "execution_count": null,
   "id": "d10e831a-25cc-4809-a061-7765e0ab680a",
   "metadata": {},
   "outputs": [],
   "source": []
  },
  {
   "cell_type": "code",
   "execution_count": 8,
   "id": "ccf75917-5e09-4091-aed7-ef141586c192",
   "metadata": {},
   "outputs": [
    {
     "name": "stdout",
     "output_type": "stream",
     "text": [
      "Hello there\n"
     ]
    }
   ],
   "source": [
    "#Case sensitive\n",
    "print(\"Hello there\")"
   ]
  },
  {
   "cell_type": "code",
   "execution_count": 9,
   "id": "ceecc375-e2aa-415a-9c9c-d6db4b794cf9",
   "metadata": {},
   "outputs": [
    {
     "name": "stdout",
     "output_type": "stream",
     "text": [
      "It was a dark and stormy night.\n",
      "Suddenly a shot rang out!\n"
     ]
    }
   ],
   "source": [
    "#Print multiple lines\n",
    "print(\"It was a dark and stormy night.\")\n",
    "print(\"Suddenly a shot rang out!\")"
   ]
  },
  {
   "cell_type": "code",
   "execution_count": 10,
   "id": "fd862339-7851-4795-8668-7ccb2c73af72",
   "metadata": {},
   "outputs": [
    {
     "ename": "SyntaxError",
     "evalue": "unterminated string literal (detected at line 2) (14653130.py, line 2)",
     "output_type": "error",
     "traceback": [
      "\u001b[1;36m  Cell \u001b[1;32mIn[10], line 2\u001b[1;36m\u001b[0m\n\u001b[1;33m    print(\"I want to print a double quote \" for some reason.\")\u001b[0m\n\u001b[1;37m                                                            ^\u001b[0m\n\u001b[1;31mSyntaxError\u001b[0m\u001b[1;31m:\u001b[0m unterminated string literal (detected at line 2)\n"
     ]
    }
   ],
   "source": [
    "#Print Escape Codes\n",
    "print(\"I want to print a double quote \" for some reason.\")\n",
    "print(\"the file is stored in c:\\new folder\")"
   ]
  },
  {
   "cell_type": "code",
   "execution_count": 12,
   "id": "37a6acbc-09b5-4371-9e28-00c0cf19a139",
   "metadata": {},
   "outputs": [
    {
     "name": "stdout",
     "output_type": "stream",
     "text": [
      "I want to print a double quote \" for some reason.\n",
      "The file is stored in c:\\new folder\n"
     ]
    }
   ],
   "source": [
    "#Print Escape Codes\n",
    "print(\"I want to print a double quote \\\" for some reason.\")\n",
    "print(\"The file is stored in c:\\\\new folder\")"
   ]
  },
  {
   "cell_type": "markdown",
   "id": "85c570f7-56c8-4f03-9830-a4ba5efdbc30",
   "metadata": {},
   "source": [
    "'Single Quote\"Double Quote \\t tab \\r CR: Carriage Return (move to the left) \\n LF:Linefeed (move down)"
   ]
  },
  {
   "cell_type": "code",
   "execution_count": 13,
   "id": "4007230a-29cb-45c3-a4bd-5276d2b50ca8",
   "metadata": {},
   "outputs": [
    {
     "name": "stdout",
     "output_type": "stream",
     "text": [
      "This\n",
      "is\n",
      "my\n",
      "sample.\n"
     ]
    }
   ],
   "source": [
    "print(\"This\\nis\\nmy\\nsample.\")"
   ]
  },
  {
   "cell_type": "code",
   "execution_count": 15,
   "id": "dff0a12f-ff74-4e00-ba00-d9554f8b5318",
   "metadata": {},
   "outputs": [
    {
     "name": "stdout",
     "output_type": "stream",
     "text": [
      "2+3\n",
      "5\n",
      "Hello World\n"
     ]
    }
   ],
   "source": [
    "print(\"2+3\")\n",
    "print(2+3)\n",
    "print(\"Hello World\")"
   ]
  },
  {
   "cell_type": "code",
   "execution_count": 16,
   "id": "bd1a55c9-933b-4a7b-8b32-3b09126a372f",
   "metadata": {},
   "outputs": [
    {
     "name": "stdout",
     "output_type": "stream",
     "text": [
      "You can print a statement surrounded by double quotes.\n",
      "You can print a statement surrounded by single quotes.\n",
      "If you went to print a double quote, you can by prepending it with\n",
      "a slash. \"That's great!\" he said.\n",
      "If you went to print a backslash, you can by prepending it with\n",
      "a slash. So this \\print one backslash and this \\\\ does two.\n",
      "You can print a blank line with a empty print statement\n",
      "\n",
      "You can use a backlash n to print a new line. These\n",
      "are\n",
      "on\n",
      "new\n",
      "lines.\n",
      "You can print on multiple lines\n",
      "using triple quotes.\n",
      "Just in case\n",
      "you wantes to.\n"
     ]
    }
   ],
   "source": [
    "print(\"You can print a statement surrounded by double quotes.\")\n",
    "print('You can print a statement surrounded by single quotes.')\n",
    "print(\"If you went to print a double quote, you can by prepending it with\")\n",
    "print(\"a slash. \\\"That's great!\\\" he said.\")\n",
    "print(\"If you went to print a backslash, you can by prepending it with\")\n",
    "print(\"a slash. So this \\\\print one backslash and this \\\\\\\\ does two.\")\n",
    "print(\"You can print a blank line with a empty print statement\")\n",
    "print()\n",
    "print(\"You can use a backlash n to print a new line. These\\nare\\non\\nnew\\nlines.\")\n",
    "print(\"\"\"You can print on multiple lines\n",
    "using triple quotes.\n",
    "Just in case\n",
    "you wantes to.\"\"\")"
   ]
  },
  {
   "cell_type": "code",
   "execution_count": 28,
   "id": "9bf19118-adac-4679-bdd6-a997f11270ac",
   "metadata": {},
   "outputs": [
    {
     "name": "stdin",
     "output_type": "stream",
     "text": [
      "Enter your weight in kilogram : 75\n",
      "Enter your height in centimeter : 170\n"
     ]
    },
    {
     "name": "stdout",
     "output_type": "stream",
     "text": [
      "your bmi : 25.95155709342561\n"
     ]
    }
   ],
   "source": [
    "kg = float(input(\"Enter your weight in kilogram :\"))\n",
    "cm = float(input(\"Enter your height in centimeter :\"))\n",
    "kg = float(kg)\n",
    "m = float(cm / 100)\n",
    "bmi = kg / (m ** 2)\n",
    "print(\"your bmi :\", bmi)"
   ]
  },
  {
   "cell_type": "code",
   "execution_count": 23,
   "id": "65ad977e-2b10-41a6-9473-955cb4804f80",
   "metadata": {},
   "outputs": [
    {
     "name": "stdout",
     "output_type": "stream",
     "text": [
      "x = 1.0\n"
     ]
    }
   ],
   "source": [
    "#import library\n",
    "# Import the math library\n",
    "# This line is done only once, and at the very top\n",
    "# of the program.\n",
    "import math as m\n",
    "\n",
    "# Calculate x using sine and cosine\n",
    "x = m.sin(0) + m.cos(0)\n",
    "print(\"x =\", x)"
   ]
  },
  {
   "cell_type": "code",
   "execution_count": 29,
   "id": "966074e9-9b84-4af1-8eae-1546058a7684",
   "metadata": {},
   "outputs": [
    {
     "name": "stdin",
     "output_type": "stream",
     "text": [
      "A : 4\n",
      "B : 3\n"
     ]
    },
    {
     "name": "stdout",
     "output_type": "stream",
     "text": [
      "C : 5.0\n"
     ]
    }
   ],
   "source": [
    "#รับ intput ความยาวของสามเหลี่ยมทั้ง 2 ด้าน ทางคีย์บอร์ด และหาค่าความยาวด้านตรงข้ามมุมฉากของสามเหลี่ยม \n",
    "import math as m\n",
    "\n",
    "a = float(input(\"A :\"))\n",
    "b = float(input(\"B :\"))\n",
    "c = m.sqrt((a ** 2) + (b ** 2))\n",
    "print(\"C :\", c)"
   ]
  },
  {
   "cell_type": "code",
   "execution_count": 31,
   "id": "974c7a5c-fe3d-4277-9be9-882f37820331",
   "metadata": {},
   "outputs": [
    {
     "name": "stdout",
     "output_type": "stream",
     "text": [
      "Mean: 3.7777777777777777\n",
      "Median: 4.0\n",
      "Mode: 2\n",
      "Min: 1\n",
      "Max: 6\n"
     ]
    }
   ],
   "source": [
    "import math as m\n",
    "import numpy as np\n",
    "import statistics as st\n",
    "\n",
    "N = [1,2,3,4,5,5,6,2,6]\n",
    "print(\"Mean:\",np.mean(N))\n",
    "print(\"Median:\",np.median(N))\n",
    "print(\"Mode:\",st.mode(N))\n",
    "print(\"Min:\",np.min(N))\n",
    "print(\"Max:\",np.max(N))"
   ]
  },
  {
   "cell_type": "code",
   "execution_count": null,
   "id": "88e492d9-7afe-415d-8e7a-d9c51f1a7b39",
   "metadata": {},
   "outputs": [],
   "source": []
  }
 ],
 "metadata": {
  "kernelspec": {
   "display_name": "Python 3 (ipykernel)",
   "language": "python",
   "name": "python3"
  },
  "language_info": {
   "codemirror_mode": {
    "name": "ipython",
    "version": 3
   },
   "file_extension": ".py",
   "mimetype": "text/x-python",
   "name": "python",
   "nbconvert_exporter": "python",
   "pygments_lexer": "ipython3",
   "version": "3.11.7"
  }
 },
 "nbformat": 4,
 "nbformat_minor": 5
}
