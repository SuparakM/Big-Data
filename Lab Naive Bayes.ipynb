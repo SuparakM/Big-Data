{
 "cells": [
  {
   "cell_type": "markdown",
   "id": "b907bc63-20d5-4d66-b459-de93f77ade4e",
   "metadata": {},
   "source": [
    "## ตัวอย่าง Naive Bayes"
   ]
  },
  {
   "cell_type": "code",
   "execution_count": 1,
   "id": "326ddd66-5ad1-4f41-9a86-ca62983bc6e1",
   "metadata": {},
   "outputs": [],
   "source": [
    "import pandas as pd\n",
    "import numpy as np"
   ]
  },
  {
   "cell_type": "code",
   "execution_count": 2,
   "id": "85f774c7-6359-4f70-97d9-f84e1d0291bc",
   "metadata": {},
   "outputs": [
    {
     "data": {
      "text/html": [
       "<div>\n",
       "<style scoped>\n",
       "    .dataframe tbody tr th:only-of-type {\n",
       "        vertical-align: middle;\n",
       "    }\n",
       "\n",
       "    .dataframe tbody tr th {\n",
       "        vertical-align: top;\n",
       "    }\n",
       "\n",
       "    .dataframe thead th {\n",
       "        text-align: right;\n",
       "    }\n",
       "</style>\n",
       "<table border=\"1\" class=\"dataframe\">\n",
       "  <thead>\n",
       "    <tr style=\"text-align: right;\">\n",
       "      <th></th>\n",
       "      <th>Gender</th>\n",
       "      <th>Weight</th>\n",
       "      <th>Height</th>\n",
       "      <th>Foot_Size</th>\n",
       "    </tr>\n",
       "  </thead>\n",
       "  <tbody>\n",
       "    <tr>\n",
       "      <th>0</th>\n",
       "      <td>male</td>\n",
       "      <td>60.00</td>\n",
       "      <td>180</td>\n",
       "      <td>12</td>\n",
       "    </tr>\n",
       "    <tr>\n",
       "      <th>1</th>\n",
       "      <td>male</td>\n",
       "      <td>50.92</td>\n",
       "      <td>190</td>\n",
       "      <td>11</td>\n",
       "    </tr>\n",
       "    <tr>\n",
       "      <th>2</th>\n",
       "      <td>male</td>\n",
       "      <td>50.58</td>\n",
       "      <td>170</td>\n",
       "      <td>12</td>\n",
       "    </tr>\n",
       "    <tr>\n",
       "      <th>3</th>\n",
       "      <td>male</td>\n",
       "      <td>50.92</td>\n",
       "      <td>165</td>\n",
       "      <td>10</td>\n",
       "    </tr>\n",
       "    <tr>\n",
       "      <th>4</th>\n",
       "      <td>female</td>\n",
       "      <td>50.00</td>\n",
       "      <td>100</td>\n",
       "      <td>6</td>\n",
       "    </tr>\n",
       "    <tr>\n",
       "      <th>5</th>\n",
       "      <td>female</td>\n",
       "      <td>50.50</td>\n",
       "      <td>150</td>\n",
       "      <td>8</td>\n",
       "    </tr>\n",
       "    <tr>\n",
       "      <th>6</th>\n",
       "      <td>female</td>\n",
       "      <td>50.42</td>\n",
       "      <td>130</td>\n",
       "      <td>7</td>\n",
       "    </tr>\n",
       "    <tr>\n",
       "      <th>7</th>\n",
       "      <td>female</td>\n",
       "      <td>50.75</td>\n",
       "      <td>150</td>\n",
       "      <td>9</td>\n",
       "    </tr>\n",
       "  </tbody>\n",
       "</table>\n",
       "</div>"
      ],
      "text/plain": [
       "   Gender  Weight  Height  Foot_Size\n",
       "0    male   60.00     180         12\n",
       "1    male   50.92     190         11\n",
       "2    male   50.58     170         12\n",
       "3    male   50.92     165         10\n",
       "4  female   50.00     100          6\n",
       "5  female   50.50     150          8\n",
       "6  female   50.42     130          7\n",
       "7  female   50.75     150          9"
      ]
     },
     "execution_count": 2,
     "metadata": {},
     "output_type": "execute_result"
    }
   ],
   "source": [
    "# สร้าง dataframe ชื่อ data ว่างๆ ขึ้นมาก่อน\n",
    "data = pd.DataFrame()\n",
    "\n",
    "# ต้องการสร้างข้อมูลที่ประกอบด้วยคุณลักษณะ (attribute) ได้แก่ ความสูง น้ำหนัก ขนาดรองเท้า และเพศ ของลูกค้า ต้องการจะใช้วิธี naive bayes \n",
    "# เพื่อมาทำนายลูกค้าจะเป็นเพศหญิงหรือชาย (class) เมื่อทราบคุณลักษณะของข้อมูลของลูกค้า\n",
    "\n",
    "# สร้างข้อมูลที่เป็น class เก็บใน dataframe ที่สร้างไว้ \n",
    "data['Gender'] = ['male','male','male','male','female','female','female','female']\n",
    "\n",
    "# สร้้างข้อมูลที่เป็น attribute\n",
    "data['Weight'] = [60,50.92,50.58,50.92,50,50.5,50.42,50.75]\n",
    "data['Height'] = [180,190,170,165,100,150,130,150]\n",
    "data['Foot_Size'] = [12,11,12,10,6,8,7,9]\n",
    "\n",
    "# view ข้อมูล\n",
    "data"
   ]
  },
  {
   "cell_type": "code",
   "execution_count": 3,
   "id": "9d481c5d-63b0-44e1-8eaa-573f5191e7c9",
   "metadata": {},
   "outputs": [
    {
     "data": {
      "text/html": [
       "<div>\n",
       "<style scoped>\n",
       "    .dataframe tbody tr th:only-of-type {\n",
       "        vertical-align: middle;\n",
       "    }\n",
       "\n",
       "    .dataframe tbody tr th {\n",
       "        vertical-align: top;\n",
       "    }\n",
       "\n",
       "    .dataframe thead th {\n",
       "        text-align: right;\n",
       "    }\n",
       "</style>\n",
       "<table border=\"1\" class=\"dataframe\">\n",
       "  <thead>\n",
       "    <tr style=\"text-align: right;\">\n",
       "      <th></th>\n",
       "      <th>Weight</th>\n",
       "      <th>Height</th>\n",
       "      <th>Foot_Size</th>\n",
       "    </tr>\n",
       "  </thead>\n",
       "  <tbody>\n",
       "    <tr>\n",
       "      <th>0</th>\n",
       "      <td>60</td>\n",
       "      <td>130</td>\n",
       "      <td>8</td>\n",
       "    </tr>\n",
       "  </tbody>\n",
       "</table>\n",
       "</div>"
      ],
      "text/plain": [
       "   Weight  Height  Foot_Size\n",
       "0      60     130          8"
      ]
     },
     "execution_count": 3,
     "metadata": {},
     "output_type": "execute_result"
    }
   ],
   "source": [
    "# สร้าง dataframe ชื่อ person ว่างๆ ขึ้นมาก่อน\n",
    "person = pd.DataFrame()\n",
    "\n",
    "# สร้างข้อมูลที่เป็น new data \n",
    "person['Weight'] = [60]\n",
    "person['Height'] = [130]\n",
    "person['Foot_Size'] = [8]\n",
    "\n",
    "# View the data \n",
    "person"
   ]
  },
  {
   "cell_type": "code",
   "execution_count": 4,
   "id": "e6e38948-c6f7-4dcf-930f-0c4aae3f1c6a",
   "metadata": {},
   "outputs": [
    {
     "name": "stdout",
     "output_type": "stream",
     "text": [
      "8\n",
      "4\n",
      "4\n"
     ]
    }
   ],
   "source": [
    "# นับจำนวนลูกค้าที่เป็นเพศชาย \n",
    "n_male = data['Gender'][data['Gender'] == 'male'].count()\n",
    "\n",
    "# นับจำนวนลูกค้าที่เป็นเพศหญิง \n",
    "n_female = data['Gender'][data['Gender'] == 'female'].count()\n",
    "\n",
    "# นับจำนวนลูกค้าทั้งหมด\n",
    "total_ppl = data['Gender'].count()\n",
    "print(total_ppl)\n",
    "print(n_male)\n",
    "print(n_female)"
   ]
  },
  {
   "cell_type": "code",
   "execution_count": 5,
   "id": "b3d8987c-f64a-49d4-bc90-af6b76bc04f7",
   "metadata": {},
   "outputs": [
    {
     "name": "stdout",
     "output_type": "stream",
     "text": [
      "0.5 0.5\n"
     ]
    }
   ],
   "source": [
    "# หาค่าสัดส่วน (ความน่าจะเป็น) ของจำนวนลูกค้าชายต่อจำนวนลูกค้าทั้งหมด\n",
    "P_male = n_male/total_ppl\n",
    "\n",
    "# หาค่าสัดส่วน (ความน่าจะเป็น) ของจำนวนลูกค้าหญิงต่อจำนวนลูกค้าทั้งหมด\n",
    "P_female = n_female/total_ppl\n",
    "P_male\n",
    "\n",
    "print(P_male,P_female )\n",
    "#print(person['Height'][0])"
   ]
  },
  {
   "cell_type": "code",
   "execution_count": 6,
   "id": "02937ce1-f489-4b1f-9899-8bd587b4495e",
   "metadata": {},
   "outputs": [
    {
     "data": {
      "text/html": [
       "<div>\n",
       "<style scoped>\n",
       "    .dataframe tbody tr th:only-of-type {\n",
       "        vertical-align: middle;\n",
       "    }\n",
       "\n",
       "    .dataframe tbody tr th {\n",
       "        vertical-align: top;\n",
       "    }\n",
       "\n",
       "    .dataframe thead th {\n",
       "        text-align: right;\n",
       "    }\n",
       "</style>\n",
       "<table border=\"1\" class=\"dataframe\">\n",
       "  <thead>\n",
       "    <tr style=\"text-align: right;\">\n",
       "      <th></th>\n",
       "      <th>Weight</th>\n",
       "      <th>Height</th>\n",
       "      <th>Foot_Size</th>\n",
       "    </tr>\n",
       "    <tr>\n",
       "      <th>Gender</th>\n",
       "      <th></th>\n",
       "      <th></th>\n",
       "      <th></th>\n",
       "    </tr>\n",
       "  </thead>\n",
       "  <tbody>\n",
       "    <tr>\n",
       "      <th>female</th>\n",
       "      <td>50.4175</td>\n",
       "      <td>132.50</td>\n",
       "      <td>7.50</td>\n",
       "    </tr>\n",
       "    <tr>\n",
       "      <th>male</th>\n",
       "      <td>53.1050</td>\n",
       "      <td>176.25</td>\n",
       "      <td>11.25</td>\n",
       "    </tr>\n",
       "  </tbody>\n",
       "</table>\n",
       "</div>"
      ],
      "text/plain": [
       "         Weight  Height  Foot_Size\n",
       "Gender                            \n",
       "female  50.4175  132.50       7.50\n",
       "male    53.1050  176.25      11.25"
      ]
     },
     "execution_count": 6,
     "metadata": {},
     "output_type": "execute_result"
    }
   ],
   "source": [
    "# หาค่าเฉลี่ยของข้อมูลทั้งหมดที่แยกกลุ่มลูกค้าหญิงและชาย\n",
    "data_means = data.groupby('Gender').mean()\n",
    "\n",
    "# แสดงค่าเฉลี่ยของข้อมูลทั้งหมดที่แยกกลุ่มลูกค้าหญิงและชาย\n",
    "data_means"
   ]
  },
  {
   "cell_type": "code",
   "execution_count": 7,
   "id": "28e9cda1-1cad-472b-8395-970d902de82a",
   "metadata": {},
   "outputs": [
    {
     "data": {
      "text/html": [
       "<div>\n",
       "<style scoped>\n",
       "    .dataframe tbody tr th:only-of-type {\n",
       "        vertical-align: middle;\n",
       "    }\n",
       "\n",
       "    .dataframe tbody tr th {\n",
       "        vertical-align: top;\n",
       "    }\n",
       "\n",
       "    .dataframe thead th {\n",
       "        text-align: right;\n",
       "    }\n",
       "</style>\n",
       "<table border=\"1\" class=\"dataframe\">\n",
       "  <thead>\n",
       "    <tr style=\"text-align: right;\">\n",
       "      <th></th>\n",
       "      <th>Weight</th>\n",
       "      <th>Height</th>\n",
       "      <th>Foot_Size</th>\n",
       "    </tr>\n",
       "    <tr>\n",
       "      <th>Gender</th>\n",
       "      <th></th>\n",
       "      <th></th>\n",
       "      <th></th>\n",
       "    </tr>\n",
       "  </thead>\n",
       "  <tbody>\n",
       "    <tr>\n",
       "      <th>female</th>\n",
       "      <td>0.097225</td>\n",
       "      <td>558.333333</td>\n",
       "      <td>1.666667</td>\n",
       "    </tr>\n",
       "    <tr>\n",
       "      <th>male</th>\n",
       "      <td>21.155033</td>\n",
       "      <td>122.916667</td>\n",
       "      <td>0.916667</td>\n",
       "    </tr>\n",
       "  </tbody>\n",
       "</table>\n",
       "</div>"
      ],
      "text/plain": [
       "           Weight      Height  Foot_Size\n",
       "Gender                                  \n",
       "female   0.097225  558.333333   1.666667\n",
       "male    21.155033  122.916667   0.916667"
      ]
     },
     "execution_count": 7,
     "metadata": {},
     "output_type": "execute_result"
    }
   ],
   "source": [
    "# หาค่าความปรปรวนของข้อมูลที่แยกกลุ่มลูกค้าหญิงและชาย\n",
    "data_variance = data.groupby('Gender').var()\n",
    "\n",
    "# แสดงค่าความแปรปรวนของข้อมูลทั้งหมดที่แยกกลุ่มลูกค้าหญิงและชาย\n",
    "data_variance"
   ]
  },
  {
   "cell_type": "markdown",
   "id": "deb5292d-7eba-44c0-ae36-11f09df1f6dc",
   "metadata": {},
   "source": [
    "### numerator of the posteriorคำนวณค่าความน่าจะเป็นที่จะเป็นลูกค้าหญิงหรือชาย โดยใช้คุณลักษณะของข้อมูลนั่นคือ ส่วนสูง น้ำหนัก ขนาดรองเท้า ตัวอย่างเช่น =p(female)xp(height∣female)xp(weight∣female)xp(foot size∣female)\n",
    "### ต้องการใช้ naive bayes เพื่อทำนายข้อมูลใหม่ที่ที่มีคุณลักษณะเก็บอยู่ใน dataframe ชื่อ person โดยใช้ข้อมูลจากค่าเฉลี่ย และค่าความแปรปรวนของข้อมูลทั้งหมด และเรียกใช้ฟังก์ชั่นชื่อ (p_x_given_y) เพื่อคำนวณค่าความน่าจะเป็น"
   ]
  },
  {
   "cell_type": "code",
   "execution_count": 8,
   "id": "1de2f77f-c21f-44ad-8187-31191c2df148",
   "metadata": {},
   "outputs": [
    {
     "name": "stdout",
     "output_type": "stream",
     "text": [
      "176.25\n"
     ]
    }
   ],
   "source": [
    "# คำนวณค่าเฉลี่ยของข้อมูลเพศชาย\n",
    "male_height_mean = data_means['Height'][data_means.index == 'male'].values[0]\n",
    "male_weight_mean = data_means['Weight'][data_means.index == 'male'].values[0]\n",
    "male_footsize_mean = data_means['Foot_Size'][data_means.index == 'male'].values[0]\n",
    "print(male_height_mean)\n",
    "\n",
    "# คำนวณค่าความแปรปรวนของข้อมูลเพศชาย  \n",
    "male_height_variance = data_variance['Height'][data_variance.index == 'male'].values[0]\n",
    "male_weight_variance = data_variance['Weight'][data_variance.index == 'male'].values[0]\n",
    "male_footsize_variance = data_variance['Foot_Size'][data_variance.index == 'male'].values[0]\n",
    "\n",
    "# คำนวณค่าเฉลี่ยของข้อมูลเพศหญิง\n",
    "female_height_mean = data_means['Height'][data_means.index == 'female'].values[0]\n",
    "female_weight_mean = data_means['Weight'][data_means.index == 'female'].values[0]\n",
    "female_footsize_mean = data_means['Foot_Size'][data_means.index == 'female'].values[0]\n",
    "\n",
    "# คำนวณค่าความแปรปรวนของข้อมูลเพศหญิง \n",
    "female_height_variance = data_variance['Height'][data_variance.index == 'female'].values[0]\n",
    "female_weight_variance = data_variance['Weight'][data_variance.index == 'female'].values[0]\n",
    "female_footsize_variance = data_variance['Foot_Size'][data_variance.index == 'female'].values[0]"
   ]
  },
  {
   "cell_type": "markdown",
   "id": "a9ad3276-18a4-4b5f-b6a7-1f8107e03439",
   "metadata": {},
   "source": [
    "## คำนวณค่าความน่าจะเป็นจากการใช้ฟังก์ชั่นการแจกแจงแบบปกติ"
   ]
  },
  {
   "cell_type": "markdown",
   "id": "859c17d2-3fd5-4e98-8c62-ff9a16555bd4",
   "metadata": {},
   "source": [
    "รูปแบบฟังก์ชั่นดูจาก https://th.wikipedia.org/wiki/%E0%B8%81%E0%B8%B2%E0%B8%A3%E0%B9%81%E0%B8%88%E0%B8%81%E0%B9%81%E0%B8%88%E0%B8%87%E0%B8%9B%E0%B8%A3%E0%B8%81%E0%B8%95%E0%B8%B4"
   ]
  },
  {
   "cell_type": "code",
   "execution_count": 9,
   "id": "7fc27dc1-0c74-4996-97cc-8fd69bff2ed5",
   "metadata": {},
   "outputs": [],
   "source": [
    "# สร้าง function เพื่อคำนวณ  p(x | y):\n",
    "def p_x_given_y(x, mean_y, variance_y):\n",
    "\n",
    "    # คำนวณค่าความน่าจะเป็นจากการใช้ฟังก์ชั่นการแจกแจงแบบปกติ \n",
    "    p = 1/(np.sqrt(2*np.pi*variance_y)) * np.exp((-(x-mean_y)**2)/(2*variance_y))\n",
    "    \n",
    "    # return p\n",
    "    return p"
   ]
  },
  {
   "cell_type": "code",
   "execution_count": 10,
   "id": "f12ca771-bca3-46b1-9ab6-e3e58ad6ab0e",
   "metadata": {},
   "outputs": [
    {
     "data": {
      "text/plain": [
       "1.1067556317818892e-10"
      ]
     },
     "execution_count": 10,
     "metadata": {},
     "output_type": "execute_result"
    }
   ],
   "source": [
    "# คำนวณความน่าจะเป็นที่คุณลักษณะของข้อมูลใหม่แล้วะเป็นเพศชาย\n",
    "# เรียกใช้ function p_x_given_y และใส่ Input ตาม arguments ใน function\n",
    "P_male * \\\n",
    "p_x_given_y(person['Height'][0], male_height_mean, male_height_variance) * \\\n",
    "p_x_given_y(person['Weight'][0], male_weight_mean, male_weight_variance) * \\\n",
    "p_x_given_y(person['Foot_Size'][0], male_footsize_mean, male_footsize_variance)"
   ]
  },
  {
   "cell_type": "code",
   "execution_count": 11,
   "id": "cc2408d8-7937-478f-a002-1d698c030782",
   "metadata": {},
   "outputs": [
    {
     "data": {
      "text/plain": [
       "2.5315081639706153e-208"
      ]
     },
     "execution_count": 11,
     "metadata": {},
     "output_type": "execute_result"
    }
   ],
   "source": [
    "# คำนวณความน่าจะเป็นที่คุณลักษณะของข้อมูลใหม่แล้วะเป็นเพศหญิง\n",
    "# เรียกใช้ function p_x_given_y และใส่ Input ตาม arguments ใน function\n",
    "P_female * \\\n",
    "p_x_given_y(person['Height'][0], female_height_mean, female_height_variance) * \\\n",
    "p_x_given_y(person['Weight'][0], female_weight_mean, female_weight_variance) * \\\n",
    "p_x_given_y(person['Foot_Size'][0], female_footsize_mean, female_footsize_variance)"
   ]
  },
  {
   "cell_type": "markdown",
   "id": "92bc7175-071d-4be9-8bba-2cbc628e5b50",
   "metadata": {},
   "source": [
    "ค่าความน่าจะเป็นของคุณลักษณะดังกล่าวที่เป็นเพศหญิงมีค่าน้อยกว่าค่าความน่าจะเป็นของคุณลักษณะดังกล่าวที่เป็นเพศชาย ดังนั้นข้อมูลใหม่ที่ได้มาเป็นจึงน่าจะเป็นเพศชาย"
   ]
  },
  {
   "cell_type": "code",
   "execution_count": null,
   "id": "9ef6eba2-6cb8-4b6e-ad9d-730a2b4049f4",
   "metadata": {},
   "outputs": [],
   "source": []
  }
 ],
 "metadata": {
  "kernelspec": {
   "display_name": "Python 3 (ipykernel)",
   "language": "python",
   "name": "python3"
  },
  "language_info": {
   "codemirror_mode": {
    "name": "ipython",
    "version": 3
   },
   "file_extension": ".py",
   "mimetype": "text/x-python",
   "name": "python",
   "nbconvert_exporter": "python",
   "pygments_lexer": "ipython3",
   "version": "3.11.7"
  }
 },
 "nbformat": 4,
 "nbformat_minor": 5
}
